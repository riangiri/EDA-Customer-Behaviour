{
  "cells": [
    {
      "cell_type": "markdown",
      "metadata": {
        "id": "u7q3UfqnMguW"
      },
      "source": [
        "#### **Perkenalan**     \n",
        "\n",
        "Nama  : Raden Rian Girianom   \n",
        "Batch : RMT-28\n",
        "\n",
        "Sumber dataset /referensi = https://www.kaggle.com/datasets/iamsouravbanerjee/customer-shopping-trends-dataset      \n",
        "dashboard link = https://public.tableau.com/app/profile/garea.a/viz/Milestone1_17073949400080/Dashboard1?publish=yes\n"
      ]
    },
    {
      "cell_type": "markdown",
      "metadata": {
        "id": "EIlYL7vSMrtu"
      },
      "source": [
        "#### **Identifikasi Masalah**"
      ]
    },
    {
      "cell_type": "markdown",
      "metadata": {},
      "source": [
        "Problem Statement = Mengetahui perilaku konsumen dalam memilih dan membeli produk fashion secara online di USA\n",
        "\n",
        "Menganalisa efektivitas methode pembayaran dan pemberian promo terhadap customer dibutuhkan setidaknya 4 jawaban        \n",
        "1. Apakah promo code sering digunakan oleh customer\n",
        "2. Berapa Pengeluaran customer berdasarkan gender\n",
        "3. Mengetahui korelasi antara pengeluaran customer ketika berbelanja dengan rating review\n",
        "4. Metode pembayaran paling banyak digunakan dan total pemasukan dari methode pembayaran\n",
        "\n",
        "**SMART FRAMEWORK**     \n",
        "Specific    = Gender mana yang mempunyai pengeluaran belanja fashion terbanyak    \n",
        "Measurable  = Mengukur dari total pembelian oleh pelanggan berapa kali menggunakan promo code  \n",
        "Achievable  = Memberi promo dengan targetnya adalah meningkatkan penjualan produk yang kurang laku      \n",
        "Relevant    = korelasi antara pengeluaran customer ketika berbelanja dengan rating review / previous purchase  \n",
        "Time-bound  = Mengukur Waktu pelanggan melakukan banyak tranksaksi "
      ]
    },
    {
      "cell_type": "markdown",
      "metadata": {
        "id": "4bYjC-JrLgpe"
      },
      "source": [
        "#### **Data Loading**\n",
        "\n",
        "Sumber data /referensi = https://www.kaggle.com/datasets/iamsouravbanerjee/customer-shopping-trends-dataset"
      ]
    },
    {
      "cell_type": "code",
      "execution_count": 205,
      "metadata": {
        "id": "Q8EuvoEbLFLQ"
      },
      "outputs": [],
      "source": [
        "import pandas as pd"
      ]
    },
    {
      "cell_type": "code",
      "execution_count": 206,
      "metadata": {},
      "outputs": [
        {
          "data": {
            "text/html": [
              "<div>\n",
              "<style scoped>\n",
              "    .dataframe tbody tr th:only-of-type {\n",
              "        vertical-align: middle;\n",
              "    }\n",
              "\n",
              "    .dataframe tbody tr th {\n",
              "        vertical-align: top;\n",
              "    }\n",
              "\n",
              "    .dataframe thead th {\n",
              "        text-align: right;\n",
              "    }\n",
              "</style>\n",
              "<table border=\"1\" class=\"dataframe\">\n",
              "  <thead>\n",
              "    <tr style=\"text-align: right;\">\n",
              "      <th></th>\n",
              "      <th>Customer ID</th>\n",
              "      <th>Age</th>\n",
              "      <th>Gender</th>\n",
              "      <th>Item Purchased</th>\n",
              "      <th>Category</th>\n",
              "      <th>Purchase Amount (USD)</th>\n",
              "      <th>Location</th>\n",
              "      <th>Size</th>\n",
              "      <th>Color</th>\n",
              "      <th>Season</th>\n",
              "      <th>Review Rating</th>\n",
              "      <th>Subscription Status</th>\n",
              "      <th>Shipping Type</th>\n",
              "      <th>Discount Applied</th>\n",
              "      <th>Promo Code Used</th>\n",
              "      <th>Previous Purchases</th>\n",
              "      <th>Payment Method</th>\n",
              "      <th>Frequency of Purchases</th>\n",
              "    </tr>\n",
              "  </thead>\n",
              "  <tbody>\n",
              "    <tr>\n",
              "      <th>0</th>\n",
              "      <td>1</td>\n",
              "      <td>55</td>\n",
              "      <td>Male</td>\n",
              "      <td>Blouse</td>\n",
              "      <td>Clothing</td>\n",
              "      <td>53</td>\n",
              "      <td>Kentucky</td>\n",
              "      <td>L</td>\n",
              "      <td>Gray</td>\n",
              "      <td>Winter</td>\n",
              "      <td>3.1</td>\n",
              "      <td>Yes</td>\n",
              "      <td>Express</td>\n",
              "      <td>Yes</td>\n",
              "      <td>Yes</td>\n",
              "      <td>14</td>\n",
              "      <td>Venmo</td>\n",
              "      <td>Fortnightly</td>\n",
              "    </tr>\n",
              "    <tr>\n",
              "      <th>1</th>\n",
              "      <td>2</td>\n",
              "      <td>19</td>\n",
              "      <td>Male</td>\n",
              "      <td>Sweater</td>\n",
              "      <td>Clothing</td>\n",
              "      <td>64</td>\n",
              "      <td>Maine</td>\n",
              "      <td>L</td>\n",
              "      <td>Maroon</td>\n",
              "      <td>Winter</td>\n",
              "      <td>3.1</td>\n",
              "      <td>Yes</td>\n",
              "      <td>Express</td>\n",
              "      <td>Yes</td>\n",
              "      <td>Yes</td>\n",
              "      <td>2</td>\n",
              "      <td>Cash</td>\n",
              "      <td>Fortnightly</td>\n",
              "    </tr>\n",
              "    <tr>\n",
              "      <th>2</th>\n",
              "      <td>3</td>\n",
              "      <td>50</td>\n",
              "      <td>Male</td>\n",
              "      <td>Jeans</td>\n",
              "      <td>Clothing</td>\n",
              "      <td>73</td>\n",
              "      <td>Massachusetts</td>\n",
              "      <td>S</td>\n",
              "      <td>Maroon</td>\n",
              "      <td>Spring</td>\n",
              "      <td>3.1</td>\n",
              "      <td>Yes</td>\n",
              "      <td>Free Shipping</td>\n",
              "      <td>Yes</td>\n",
              "      <td>Yes</td>\n",
              "      <td>23</td>\n",
              "      <td>Credit Card</td>\n",
              "      <td>Weekly</td>\n",
              "    </tr>\n",
              "    <tr>\n",
              "      <th>3</th>\n",
              "      <td>4</td>\n",
              "      <td>21</td>\n",
              "      <td>Male</td>\n",
              "      <td>Sandals</td>\n",
              "      <td>Footwear</td>\n",
              "      <td>90</td>\n",
              "      <td>Rhode Island</td>\n",
              "      <td>M</td>\n",
              "      <td>Maroon</td>\n",
              "      <td>Spring</td>\n",
              "      <td>3.5</td>\n",
              "      <td>Yes</td>\n",
              "      <td>Next Day Air</td>\n",
              "      <td>Yes</td>\n",
              "      <td>Yes</td>\n",
              "      <td>49</td>\n",
              "      <td>PayPal</td>\n",
              "      <td>Weekly</td>\n",
              "    </tr>\n",
              "    <tr>\n",
              "      <th>4</th>\n",
              "      <td>5</td>\n",
              "      <td>45</td>\n",
              "      <td>Male</td>\n",
              "      <td>Blouse</td>\n",
              "      <td>Clothing</td>\n",
              "      <td>49</td>\n",
              "      <td>Oregon</td>\n",
              "      <td>M</td>\n",
              "      <td>Turquoise</td>\n",
              "      <td>Spring</td>\n",
              "      <td>2.7</td>\n",
              "      <td>Yes</td>\n",
              "      <td>Free Shipping</td>\n",
              "      <td>Yes</td>\n",
              "      <td>Yes</td>\n",
              "      <td>31</td>\n",
              "      <td>PayPal</td>\n",
              "      <td>Annually</td>\n",
              "    </tr>\n",
              "  </tbody>\n",
              "</table>\n",
              "</div>"
            ],
            "text/plain": [
              "   Customer ID  Age Gender Item Purchased  Category  Purchase Amount (USD)  \\\n",
              "0            1   55   Male         Blouse  Clothing                     53   \n",
              "1            2   19   Male        Sweater  Clothing                     64   \n",
              "2            3   50   Male          Jeans  Clothing                     73   \n",
              "3            4   21   Male        Sandals  Footwear                     90   \n",
              "4            5   45   Male         Blouse  Clothing                     49   \n",
              "\n",
              "        Location Size      Color  Season  Review Rating Subscription Status  \\\n",
              "0       Kentucky    L       Gray  Winter            3.1                 Yes   \n",
              "1          Maine    L     Maroon  Winter            3.1                 Yes   \n",
              "2  Massachusetts    S     Maroon  Spring            3.1                 Yes   \n",
              "3   Rhode Island    M     Maroon  Spring            3.5                 Yes   \n",
              "4         Oregon    M  Turquoise  Spring            2.7                 Yes   \n",
              "\n",
              "   Shipping Type Discount Applied Promo Code Used  Previous Purchases  \\\n",
              "0        Express              Yes             Yes                  14   \n",
              "1        Express              Yes             Yes                   2   \n",
              "2  Free Shipping              Yes             Yes                  23   \n",
              "3   Next Day Air              Yes             Yes                  49   \n",
              "4  Free Shipping              Yes             Yes                  31   \n",
              "\n",
              "  Payment Method Frequency of Purchases  \n",
              "0          Venmo            Fortnightly  \n",
              "1           Cash            Fortnightly  \n",
              "2    Credit Card                 Weekly  \n",
              "3         PayPal                 Weekly  \n",
              "4         PayPal               Annually  "
            ]
          },
          "execution_count": 206,
          "metadata": {},
          "output_type": "execute_result"
        }
      ],
      "source": [
        "# Import csv\n",
        "\n",
        "df=pd.read_csv('shopping_trends_updated.csv')\n",
        "df.head(5)"
      ]
    },
    {
      "cell_type": "code",
      "execution_count": 207,
      "metadata": {},
      "outputs": [
        {
          "name": "stdout",
          "output_type": "stream",
          "text": [
            "<class 'pandas.core.frame.DataFrame'>\n",
            "RangeIndex: 3900 entries, 0 to 3899\n",
            "Data columns (total 18 columns):\n",
            " #   Column                  Non-Null Count  Dtype  \n",
            "---  ------                  --------------  -----  \n",
            " 0   Customer ID             3900 non-null   int64  \n",
            " 1   Age                     3900 non-null   int64  \n",
            " 2   Gender                  3900 non-null   object \n",
            " 3   Item Purchased          3900 non-null   object \n",
            " 4   Category                3900 non-null   object \n",
            " 5   Purchase Amount (USD)   3900 non-null   int64  \n",
            " 6   Location                3900 non-null   object \n",
            " 7   Size                    3900 non-null   object \n",
            " 8   Color                   3900 non-null   object \n",
            " 9   Season                  3900 non-null   object \n",
            " 10  Review Rating           3900 non-null   float64\n",
            " 11  Subscription Status     3900 non-null   object \n",
            " 12  Shipping Type           3900 non-null   object \n",
            " 13  Discount Applied        3900 non-null   object \n",
            " 14  Promo Code Used         3900 non-null   object \n",
            " 15  Previous Purchases      3900 non-null   int64  \n",
            " 16  Payment Method          3900 non-null   object \n",
            " 17  Frequency of Purchases  3900 non-null   object \n",
            "dtypes: float64(1), int64(4), object(13)\n",
            "memory usage: 548.6+ KB\n"
          ]
        }
      ],
      "source": [
        "df.info()"
      ]
    },
    {
      "cell_type": "markdown",
      "metadata": {},
      "source": [
        "Terdapat 3900 data, 17 column dan tidak ditemukan adanya missing value  untuk mempermudah analisis data diatas yang akan di drop adalah kolom = Customer ID"
      ]
    },
    {
      "cell_type": "markdown",
      "metadata": {
        "id": "HrLDHNRvL-xm"
      },
      "source": [
        "#### **Data Cleaning**\n",
        "\n",
        "Langkah pertama adalah drop kolom yang tidak akan digunakan untuk kebutuhan Analisis yaitu kolom Customer ID"
      ]
    },
    {
      "cell_type": "code",
      "execution_count": 18,
      "metadata": {
        "id": "rdzq5RuWMETz"
      },
      "outputs": [
        {
          "data": {
            "text/html": [
              "<div>\n",
              "<style scoped>\n",
              "    .dataframe tbody tr th:only-of-type {\n",
              "        vertical-align: middle;\n",
              "    }\n",
              "\n",
              "    .dataframe tbody tr th {\n",
              "        vertical-align: top;\n",
              "    }\n",
              "\n",
              "    .dataframe thead th {\n",
              "        text-align: right;\n",
              "    }\n",
              "</style>\n",
              "<table border=\"1\" class=\"dataframe\">\n",
              "  <thead>\n",
              "    <tr style=\"text-align: right;\">\n",
              "      <th></th>\n",
              "      <th>Age</th>\n",
              "      <th>Gender</th>\n",
              "      <th>Item Purchased</th>\n",
              "      <th>Category</th>\n",
              "      <th>Purchase Amount (USD)</th>\n",
              "      <th>Location</th>\n",
              "      <th>Size</th>\n",
              "      <th>Color</th>\n",
              "      <th>Season</th>\n",
              "      <th>Review Rating</th>\n",
              "      <th>Subscription Status</th>\n",
              "      <th>Shipping Type</th>\n",
              "      <th>Discount Applied</th>\n",
              "      <th>Promo Code Used</th>\n",
              "      <th>Previous Purchases</th>\n",
              "      <th>Payment Method</th>\n",
              "      <th>Frequency of Purchases</th>\n",
              "    </tr>\n",
              "  </thead>\n",
              "  <tbody>\n",
              "    <tr>\n",
              "      <th>0</th>\n",
              "      <td>55</td>\n",
              "      <td>Male</td>\n",
              "      <td>Blouse</td>\n",
              "      <td>Clothing</td>\n",
              "      <td>53</td>\n",
              "      <td>Kentucky</td>\n",
              "      <td>L</td>\n",
              "      <td>Gray</td>\n",
              "      <td>Winter</td>\n",
              "      <td>3.1</td>\n",
              "      <td>Yes</td>\n",
              "      <td>Express</td>\n",
              "      <td>Yes</td>\n",
              "      <td>Yes</td>\n",
              "      <td>14</td>\n",
              "      <td>Venmo</td>\n",
              "      <td>Fortnightly</td>\n",
              "    </tr>\n",
              "    <tr>\n",
              "      <th>1</th>\n",
              "      <td>19</td>\n",
              "      <td>Male</td>\n",
              "      <td>Sweater</td>\n",
              "      <td>Clothing</td>\n",
              "      <td>64</td>\n",
              "      <td>Maine</td>\n",
              "      <td>L</td>\n",
              "      <td>Maroon</td>\n",
              "      <td>Winter</td>\n",
              "      <td>3.1</td>\n",
              "      <td>Yes</td>\n",
              "      <td>Express</td>\n",
              "      <td>Yes</td>\n",
              "      <td>Yes</td>\n",
              "      <td>2</td>\n",
              "      <td>Cash</td>\n",
              "      <td>Fortnightly</td>\n",
              "    </tr>\n",
              "    <tr>\n",
              "      <th>2</th>\n",
              "      <td>50</td>\n",
              "      <td>Male</td>\n",
              "      <td>Jeans</td>\n",
              "      <td>Clothing</td>\n",
              "      <td>73</td>\n",
              "      <td>Massachusetts</td>\n",
              "      <td>S</td>\n",
              "      <td>Maroon</td>\n",
              "      <td>Spring</td>\n",
              "      <td>3.1</td>\n",
              "      <td>Yes</td>\n",
              "      <td>Free Shipping</td>\n",
              "      <td>Yes</td>\n",
              "      <td>Yes</td>\n",
              "      <td>23</td>\n",
              "      <td>Credit Card</td>\n",
              "      <td>Weekly</td>\n",
              "    </tr>\n",
              "    <tr>\n",
              "      <th>3</th>\n",
              "      <td>21</td>\n",
              "      <td>Male</td>\n",
              "      <td>Sandals</td>\n",
              "      <td>Footwear</td>\n",
              "      <td>90</td>\n",
              "      <td>Rhode Island</td>\n",
              "      <td>M</td>\n",
              "      <td>Maroon</td>\n",
              "      <td>Spring</td>\n",
              "      <td>3.5</td>\n",
              "      <td>Yes</td>\n",
              "      <td>Next Day Air</td>\n",
              "      <td>Yes</td>\n",
              "      <td>Yes</td>\n",
              "      <td>49</td>\n",
              "      <td>PayPal</td>\n",
              "      <td>Weekly</td>\n",
              "    </tr>\n",
              "    <tr>\n",
              "      <th>4</th>\n",
              "      <td>45</td>\n",
              "      <td>Male</td>\n",
              "      <td>Blouse</td>\n",
              "      <td>Clothing</td>\n",
              "      <td>49</td>\n",
              "      <td>Oregon</td>\n",
              "      <td>M</td>\n",
              "      <td>Turquoise</td>\n",
              "      <td>Spring</td>\n",
              "      <td>2.7</td>\n",
              "      <td>Yes</td>\n",
              "      <td>Free Shipping</td>\n",
              "      <td>Yes</td>\n",
              "      <td>Yes</td>\n",
              "      <td>31</td>\n",
              "      <td>PayPal</td>\n",
              "      <td>Annually</td>\n",
              "    </tr>\n",
              "  </tbody>\n",
              "</table>\n",
              "</div>"
            ],
            "text/plain": [
              "   Age Gender Item Purchased  Category  Purchase Amount (USD)       Location  \\\n",
              "0   55   Male         Blouse  Clothing                     53       Kentucky   \n",
              "1   19   Male        Sweater  Clothing                     64          Maine   \n",
              "2   50   Male          Jeans  Clothing                     73  Massachusetts   \n",
              "3   21   Male        Sandals  Footwear                     90   Rhode Island   \n",
              "4   45   Male         Blouse  Clothing                     49         Oregon   \n",
              "\n",
              "  Size      Color  Season  Review Rating Subscription Status  Shipping Type  \\\n",
              "0    L       Gray  Winter            3.1                 Yes        Express   \n",
              "1    L     Maroon  Winter            3.1                 Yes        Express   \n",
              "2    S     Maroon  Spring            3.1                 Yes  Free Shipping   \n",
              "3    M     Maroon  Spring            3.5                 Yes   Next Day Air   \n",
              "4    M  Turquoise  Spring            2.7                 Yes  Free Shipping   \n",
              "\n",
              "  Discount Applied Promo Code Used  Previous Purchases Payment Method  \\\n",
              "0              Yes             Yes                  14          Venmo   \n",
              "1              Yes             Yes                   2           Cash   \n",
              "2              Yes             Yes                  23    Credit Card   \n",
              "3              Yes             Yes                  49         PayPal   \n",
              "4              Yes             Yes                  31         PayPal   \n",
              "\n",
              "  Frequency of Purchases  \n",
              "0            Fortnightly  \n",
              "1            Fortnightly  \n",
              "2                 Weekly  \n",
              "3                 Weekly  \n",
              "4               Annually  "
            ]
          },
          "execution_count": 18,
          "metadata": {},
          "output_type": "execute_result"
        }
      ],
      "source": [
        "# drop kolom menggunakan df.drop\n",
        "df.drop(['Customer ID'], axis=1, inplace=True)\n",
        "df.head(5)"
      ]
    },
    {
      "cell_type": "code",
      "execution_count": 215,
      "metadata": {},
      "outputs": [
        {
          "data": {
            "text/plain": [
              "array(['Fortnightly', 'Weekly', 'Annually', 'Quarterly', 'Bi-Weekly',\n",
              "       'Monthly', 'Every 3 Months'], dtype=object)"
            ]
          },
          "execution_count": 215,
          "metadata": {},
          "output_type": "execute_result"
        }
      ],
      "source": [
        "df1['Frequency of Purchases'].unique()"
      ]
    },
    {
      "cell_type": "markdown",
      "metadata": {},
      "source": [
        "Hasil diatas kolom Customer ID telah dihapus        \n",
        "Langkah kedua adalah cek data type "
      ]
    },
    {
      "cell_type": "code",
      "execution_count": 19,
      "metadata": {},
      "outputs": [
        {
          "name": "stdout",
          "output_type": "stream",
          "text": [
            "<class 'pandas.core.frame.DataFrame'>\n",
            "RangeIndex: 3900 entries, 0 to 3899\n",
            "Data columns (total 17 columns):\n",
            " #   Column                  Non-Null Count  Dtype  \n",
            "---  ------                  --------------  -----  \n",
            " 0   Age                     3900 non-null   int64  \n",
            " 1   Gender                  3900 non-null   object \n",
            " 2   Item Purchased          3900 non-null   object \n",
            " 3   Category                3900 non-null   object \n",
            " 4   Purchase Amount (USD)   3900 non-null   int64  \n",
            " 5   Location                3900 non-null   object \n",
            " 6   Size                    3900 non-null   object \n",
            " 7   Color                   3900 non-null   object \n",
            " 8   Season                  3900 non-null   object \n",
            " 9   Review Rating           3900 non-null   float64\n",
            " 10  Subscription Status     3900 non-null   object \n",
            " 11  Shipping Type           3900 non-null   object \n",
            " 12  Discount Applied        3900 non-null   object \n",
            " 13  Promo Code Used         3900 non-null   object \n",
            " 14  Previous Purchases      3900 non-null   int64  \n",
            " 15  Payment Method          3900 non-null   object \n",
            " 16  Frequency of Purchases  3900 non-null   object \n",
            "dtypes: float64(1), int64(3), object(13)\n",
            "memory usage: 518.1+ KB\n"
          ]
        }
      ],
      "source": [
        "df.info()"
      ]
    },
    {
      "cell_type": "markdown",
      "metadata": {},
      "source": [
        "Terdapat 3900 data dan tidak terdapat missing value serta semua kolom telah sesuai dengan datatype nya, bisa dilanjutkan ke tahap berikutnya"
      ]
    },
    {
      "cell_type": "code",
      "execution_count": 21,
      "metadata": {},
      "outputs": [
        {
          "data": {
            "text/plain": [
              "0       False\n",
              "1       False\n",
              "2       False\n",
              "3       False\n",
              "4       False\n",
              "        ...  \n",
              "3895    False\n",
              "3896    False\n",
              "3897    False\n",
              "3898    False\n",
              "3899    False\n",
              "Length: 3900, dtype: bool"
            ]
          },
          "execution_count": 21,
          "metadata": {},
          "output_type": "execute_result"
        }
      ],
      "source": [
        "df.duplicated()"
      ]
    },
    {
      "cell_type": "code",
      "execution_count": 20,
      "metadata": {},
      "outputs": [
        {
          "data": {
            "text/html": [
              "<div>\n",
              "<style scoped>\n",
              "    .dataframe tbody tr th:only-of-type {\n",
              "        vertical-align: middle;\n",
              "    }\n",
              "\n",
              "    .dataframe tbody tr th {\n",
              "        vertical-align: top;\n",
              "    }\n",
              "\n",
              "    .dataframe thead th {\n",
              "        text-align: right;\n",
              "    }\n",
              "</style>\n",
              "<table border=\"1\" class=\"dataframe\">\n",
              "  <thead>\n",
              "    <tr style=\"text-align: right;\">\n",
              "      <th></th>\n",
              "      <th>Age</th>\n",
              "      <th>Purchase Amount (USD)</th>\n",
              "      <th>Review Rating</th>\n",
              "      <th>Previous Purchases</th>\n",
              "    </tr>\n",
              "  </thead>\n",
              "  <tbody>\n",
              "    <tr>\n",
              "      <th>count</th>\n",
              "      <td>3900.000000</td>\n",
              "      <td>3900.000000</td>\n",
              "      <td>3900.000000</td>\n",
              "      <td>3900.000000</td>\n",
              "    </tr>\n",
              "    <tr>\n",
              "      <th>mean</th>\n",
              "      <td>44.068462</td>\n",
              "      <td>59.764359</td>\n",
              "      <td>3.749949</td>\n",
              "      <td>25.351538</td>\n",
              "    </tr>\n",
              "    <tr>\n",
              "      <th>std</th>\n",
              "      <td>15.207589</td>\n",
              "      <td>23.685392</td>\n",
              "      <td>0.716223</td>\n",
              "      <td>14.447125</td>\n",
              "    </tr>\n",
              "    <tr>\n",
              "      <th>min</th>\n",
              "      <td>18.000000</td>\n",
              "      <td>20.000000</td>\n",
              "      <td>2.500000</td>\n",
              "      <td>1.000000</td>\n",
              "    </tr>\n",
              "    <tr>\n",
              "      <th>25%</th>\n",
              "      <td>31.000000</td>\n",
              "      <td>39.000000</td>\n",
              "      <td>3.100000</td>\n",
              "      <td>13.000000</td>\n",
              "    </tr>\n",
              "    <tr>\n",
              "      <th>50%</th>\n",
              "      <td>44.000000</td>\n",
              "      <td>60.000000</td>\n",
              "      <td>3.700000</td>\n",
              "      <td>25.000000</td>\n",
              "    </tr>\n",
              "    <tr>\n",
              "      <th>75%</th>\n",
              "      <td>57.000000</td>\n",
              "      <td>81.000000</td>\n",
              "      <td>4.400000</td>\n",
              "      <td>38.000000</td>\n",
              "    </tr>\n",
              "    <tr>\n",
              "      <th>max</th>\n",
              "      <td>70.000000</td>\n",
              "      <td>100.000000</td>\n",
              "      <td>5.000000</td>\n",
              "      <td>50.000000</td>\n",
              "    </tr>\n",
              "  </tbody>\n",
              "</table>\n",
              "</div>"
            ],
            "text/plain": [
              "               Age  Purchase Amount (USD)  Review Rating  Previous Purchases\n",
              "count  3900.000000            3900.000000    3900.000000         3900.000000\n",
              "mean     44.068462              59.764359       3.749949           25.351538\n",
              "std      15.207589              23.685392       0.716223           14.447125\n",
              "min      18.000000              20.000000       2.500000            1.000000\n",
              "25%      31.000000              39.000000       3.100000           13.000000\n",
              "50%      44.000000              60.000000       3.700000           25.000000\n",
              "75%      57.000000              81.000000       4.400000           38.000000\n",
              "max      70.000000             100.000000       5.000000           50.000000"
            ]
          },
          "execution_count": 20,
          "metadata": {},
          "output_type": "execute_result"
        }
      ],
      "source": [
        "df.describe()"
      ]
    },
    {
      "cell_type": "code",
      "execution_count": 22,
      "metadata": {},
      "outputs": [
        {
          "data": {
            "text/html": [
              "<div>\n",
              "<style scoped>\n",
              "    .dataframe tbody tr th:only-of-type {\n",
              "        vertical-align: middle;\n",
              "    }\n",
              "\n",
              "    .dataframe tbody tr th {\n",
              "        vertical-align: top;\n",
              "    }\n",
              "\n",
              "    .dataframe thead th {\n",
              "        text-align: right;\n",
              "    }\n",
              "</style>\n",
              "<table border=\"1\" class=\"dataframe\">\n",
              "  <thead>\n",
              "    <tr style=\"text-align: right;\">\n",
              "      <th></th>\n",
              "      <th>Age</th>\n",
              "      <th>Gender</th>\n",
              "      <th>Item Purchased</th>\n",
              "      <th>Category</th>\n",
              "      <th>Purchase Amount (USD)</th>\n",
              "      <th>Location</th>\n",
              "      <th>Size</th>\n",
              "      <th>Color</th>\n",
              "      <th>Season</th>\n",
              "      <th>Review Rating</th>\n",
              "      <th>Subscription Status</th>\n",
              "      <th>Shipping Type</th>\n",
              "      <th>Discount Applied</th>\n",
              "      <th>Promo Code Used</th>\n",
              "      <th>Previous Purchases</th>\n",
              "      <th>Payment Method</th>\n",
              "      <th>Frequency of Purchases</th>\n",
              "    </tr>\n",
              "  </thead>\n",
              "  <tbody>\n",
              "    <tr>\n",
              "      <th>0</th>\n",
              "      <td>55</td>\n",
              "      <td>Male</td>\n",
              "      <td>Blouse</td>\n",
              "      <td>Clothing</td>\n",
              "      <td>53</td>\n",
              "      <td>Kentucky</td>\n",
              "      <td>L</td>\n",
              "      <td>Gray</td>\n",
              "      <td>Winter</td>\n",
              "      <td>3.1</td>\n",
              "      <td>Yes</td>\n",
              "      <td>Express</td>\n",
              "      <td>Yes</td>\n",
              "      <td>Yes</td>\n",
              "      <td>14</td>\n",
              "      <td>Venmo</td>\n",
              "      <td>Fortnightly</td>\n",
              "    </tr>\n",
              "    <tr>\n",
              "      <th>1</th>\n",
              "      <td>19</td>\n",
              "      <td>Male</td>\n",
              "      <td>Sweater</td>\n",
              "      <td>Clothing</td>\n",
              "      <td>64</td>\n",
              "      <td>Maine</td>\n",
              "      <td>L</td>\n",
              "      <td>Maroon</td>\n",
              "      <td>Winter</td>\n",
              "      <td>3.1</td>\n",
              "      <td>Yes</td>\n",
              "      <td>Express</td>\n",
              "      <td>Yes</td>\n",
              "      <td>Yes</td>\n",
              "      <td>2</td>\n",
              "      <td>Cash</td>\n",
              "      <td>Fortnightly</td>\n",
              "    </tr>\n",
              "    <tr>\n",
              "      <th>2</th>\n",
              "      <td>50</td>\n",
              "      <td>Male</td>\n",
              "      <td>Jeans</td>\n",
              "      <td>Clothing</td>\n",
              "      <td>73</td>\n",
              "      <td>Massachusetts</td>\n",
              "      <td>S</td>\n",
              "      <td>Maroon</td>\n",
              "      <td>Spring</td>\n",
              "      <td>3.1</td>\n",
              "      <td>Yes</td>\n",
              "      <td>Free Shipping</td>\n",
              "      <td>Yes</td>\n",
              "      <td>Yes</td>\n",
              "      <td>23</td>\n",
              "      <td>Credit Card</td>\n",
              "      <td>Weekly</td>\n",
              "    </tr>\n",
              "    <tr>\n",
              "      <th>3</th>\n",
              "      <td>21</td>\n",
              "      <td>Male</td>\n",
              "      <td>Sandals</td>\n",
              "      <td>Footwear</td>\n",
              "      <td>90</td>\n",
              "      <td>Rhode Island</td>\n",
              "      <td>M</td>\n",
              "      <td>Maroon</td>\n",
              "      <td>Spring</td>\n",
              "      <td>3.5</td>\n",
              "      <td>Yes</td>\n",
              "      <td>Next Day Air</td>\n",
              "      <td>Yes</td>\n",
              "      <td>Yes</td>\n",
              "      <td>49</td>\n",
              "      <td>PayPal</td>\n",
              "      <td>Weekly</td>\n",
              "    </tr>\n",
              "    <tr>\n",
              "      <th>4</th>\n",
              "      <td>45</td>\n",
              "      <td>Male</td>\n",
              "      <td>Blouse</td>\n",
              "      <td>Clothing</td>\n",
              "      <td>49</td>\n",
              "      <td>Oregon</td>\n",
              "      <td>M</td>\n",
              "      <td>Turquoise</td>\n",
              "      <td>Spring</td>\n",
              "      <td>2.7</td>\n",
              "      <td>Yes</td>\n",
              "      <td>Free Shipping</td>\n",
              "      <td>Yes</td>\n",
              "      <td>Yes</td>\n",
              "      <td>31</td>\n",
              "      <td>PayPal</td>\n",
              "      <td>Annually</td>\n",
              "    </tr>\n",
              "    <tr>\n",
              "      <th>...</th>\n",
              "      <td>...</td>\n",
              "      <td>...</td>\n",
              "      <td>...</td>\n",
              "      <td>...</td>\n",
              "      <td>...</td>\n",
              "      <td>...</td>\n",
              "      <td>...</td>\n",
              "      <td>...</td>\n",
              "      <td>...</td>\n",
              "      <td>...</td>\n",
              "      <td>...</td>\n",
              "      <td>...</td>\n",
              "      <td>...</td>\n",
              "      <td>...</td>\n",
              "      <td>...</td>\n",
              "      <td>...</td>\n",
              "      <td>...</td>\n",
              "    </tr>\n",
              "    <tr>\n",
              "      <th>3895</th>\n",
              "      <td>40</td>\n",
              "      <td>Female</td>\n",
              "      <td>Hoodie</td>\n",
              "      <td>Clothing</td>\n",
              "      <td>28</td>\n",
              "      <td>Virginia</td>\n",
              "      <td>L</td>\n",
              "      <td>Turquoise</td>\n",
              "      <td>Summer</td>\n",
              "      <td>4.2</td>\n",
              "      <td>No</td>\n",
              "      <td>2-Day Shipping</td>\n",
              "      <td>No</td>\n",
              "      <td>No</td>\n",
              "      <td>32</td>\n",
              "      <td>Venmo</td>\n",
              "      <td>Weekly</td>\n",
              "    </tr>\n",
              "    <tr>\n",
              "      <th>3896</th>\n",
              "      <td>52</td>\n",
              "      <td>Female</td>\n",
              "      <td>Backpack</td>\n",
              "      <td>Accessories</td>\n",
              "      <td>49</td>\n",
              "      <td>Iowa</td>\n",
              "      <td>L</td>\n",
              "      <td>White</td>\n",
              "      <td>Spring</td>\n",
              "      <td>4.5</td>\n",
              "      <td>No</td>\n",
              "      <td>Store Pickup</td>\n",
              "      <td>No</td>\n",
              "      <td>No</td>\n",
              "      <td>41</td>\n",
              "      <td>Bank Transfer</td>\n",
              "      <td>Bi-Weekly</td>\n",
              "    </tr>\n",
              "    <tr>\n",
              "      <th>3897</th>\n",
              "      <td>46</td>\n",
              "      <td>Female</td>\n",
              "      <td>Belt</td>\n",
              "      <td>Accessories</td>\n",
              "      <td>33</td>\n",
              "      <td>New Jersey</td>\n",
              "      <td>L</td>\n",
              "      <td>Green</td>\n",
              "      <td>Spring</td>\n",
              "      <td>2.9</td>\n",
              "      <td>No</td>\n",
              "      <td>Standard</td>\n",
              "      <td>No</td>\n",
              "      <td>No</td>\n",
              "      <td>24</td>\n",
              "      <td>Venmo</td>\n",
              "      <td>Quarterly</td>\n",
              "    </tr>\n",
              "    <tr>\n",
              "      <th>3898</th>\n",
              "      <td>44</td>\n",
              "      <td>Female</td>\n",
              "      <td>Shoes</td>\n",
              "      <td>Footwear</td>\n",
              "      <td>77</td>\n",
              "      <td>Minnesota</td>\n",
              "      <td>S</td>\n",
              "      <td>Brown</td>\n",
              "      <td>Summer</td>\n",
              "      <td>3.8</td>\n",
              "      <td>No</td>\n",
              "      <td>Express</td>\n",
              "      <td>No</td>\n",
              "      <td>No</td>\n",
              "      <td>24</td>\n",
              "      <td>Venmo</td>\n",
              "      <td>Weekly</td>\n",
              "    </tr>\n",
              "    <tr>\n",
              "      <th>3899</th>\n",
              "      <td>52</td>\n",
              "      <td>Female</td>\n",
              "      <td>Handbag</td>\n",
              "      <td>Accessories</td>\n",
              "      <td>81</td>\n",
              "      <td>California</td>\n",
              "      <td>M</td>\n",
              "      <td>Beige</td>\n",
              "      <td>Spring</td>\n",
              "      <td>3.1</td>\n",
              "      <td>No</td>\n",
              "      <td>Store Pickup</td>\n",
              "      <td>No</td>\n",
              "      <td>No</td>\n",
              "      <td>33</td>\n",
              "      <td>Venmo</td>\n",
              "      <td>Quarterly</td>\n",
              "    </tr>\n",
              "  </tbody>\n",
              "</table>\n",
              "<p>3900 rows × 17 columns</p>\n",
              "</div>"
            ],
            "text/plain": [
              "      Age  Gender Item Purchased     Category  Purchase Amount (USD)  \\\n",
              "0      55    Male         Blouse     Clothing                     53   \n",
              "1      19    Male        Sweater     Clothing                     64   \n",
              "2      50    Male          Jeans     Clothing                     73   \n",
              "3      21    Male        Sandals     Footwear                     90   \n",
              "4      45    Male         Blouse     Clothing                     49   \n",
              "...   ...     ...            ...          ...                    ...   \n",
              "3895   40  Female         Hoodie     Clothing                     28   \n",
              "3896   52  Female       Backpack  Accessories                     49   \n",
              "3897   46  Female           Belt  Accessories                     33   \n",
              "3898   44  Female          Shoes     Footwear                     77   \n",
              "3899   52  Female        Handbag  Accessories                     81   \n",
              "\n",
              "           Location Size      Color  Season  Review Rating  \\\n",
              "0          Kentucky    L       Gray  Winter            3.1   \n",
              "1             Maine    L     Maroon  Winter            3.1   \n",
              "2     Massachusetts    S     Maroon  Spring            3.1   \n",
              "3      Rhode Island    M     Maroon  Spring            3.5   \n",
              "4            Oregon    M  Turquoise  Spring            2.7   \n",
              "...             ...  ...        ...     ...            ...   \n",
              "3895       Virginia    L  Turquoise  Summer            4.2   \n",
              "3896           Iowa    L      White  Spring            4.5   \n",
              "3897     New Jersey    L      Green  Spring            2.9   \n",
              "3898      Minnesota    S      Brown  Summer            3.8   \n",
              "3899     California    M      Beige  Spring            3.1   \n",
              "\n",
              "     Subscription Status   Shipping Type Discount Applied Promo Code Used  \\\n",
              "0                    Yes         Express              Yes             Yes   \n",
              "1                    Yes         Express              Yes             Yes   \n",
              "2                    Yes   Free Shipping              Yes             Yes   \n",
              "3                    Yes    Next Day Air              Yes             Yes   \n",
              "4                    Yes   Free Shipping              Yes             Yes   \n",
              "...                  ...             ...              ...             ...   \n",
              "3895                  No  2-Day Shipping               No              No   \n",
              "3896                  No    Store Pickup               No              No   \n",
              "3897                  No        Standard               No              No   \n",
              "3898                  No         Express               No              No   \n",
              "3899                  No    Store Pickup               No              No   \n",
              "\n",
              "      Previous Purchases Payment Method Frequency of Purchases  \n",
              "0                     14          Venmo            Fortnightly  \n",
              "1                      2           Cash            Fortnightly  \n",
              "2                     23    Credit Card                 Weekly  \n",
              "3                     49         PayPal                 Weekly  \n",
              "4                     31         PayPal               Annually  \n",
              "...                  ...            ...                    ...  \n",
              "3895                  32          Venmo                 Weekly  \n",
              "3896                  41  Bank Transfer              Bi-Weekly  \n",
              "3897                  24          Venmo              Quarterly  \n",
              "3898                  24          Venmo                 Weekly  \n",
              "3899                  33          Venmo              Quarterly  \n",
              "\n",
              "[3900 rows x 17 columns]"
            ]
          },
          "execution_count": 22,
          "metadata": {},
          "output_type": "execute_result"
        }
      ],
      "source": [
        "# Eksport data yang sudah dibersihkan ke csv\n",
        "\n",
        "df.to_csv('ShoppingTrend-clean.csv', index=False)\n",
        "df"
      ]
    },
    {
      "cell_type": "markdown",
      "metadata": {
        "id": "x0iA3y-3MJuz"
      },
      "source": [
        "#### **Analisis dan perhitungan**"
      ]
    },
    {
      "cell_type": "code",
      "execution_count": 208,
      "metadata": {},
      "outputs": [],
      "source": [
        "# Import terlebih dahulu library python nya\n",
        "import pandas as pd\n",
        "import matplotlib.pyplot as plt\n",
        "import plotly.express as px #untuk data visualization chart/grafik\n",
        "import scipy as stats\n",
        "import scipy.stats\n",
        "from scipy.stats import spearmanr\n",
        "from scipy.stats import pearsonr\n",
        "from scipy.stats import kendalltau\n",
        "from scipy.stats import chi2_contingency\n",
        "import scipy"
      ]
    },
    {
      "cell_type": "code",
      "execution_count": 209,
      "metadata": {},
      "outputs": [
        {
          "data": {
            "text/html": [
              "<div>\n",
              "<style scoped>\n",
              "    .dataframe tbody tr th:only-of-type {\n",
              "        vertical-align: middle;\n",
              "    }\n",
              "\n",
              "    .dataframe tbody tr th {\n",
              "        vertical-align: top;\n",
              "    }\n",
              "\n",
              "    .dataframe thead th {\n",
              "        text-align: right;\n",
              "    }\n",
              "</style>\n",
              "<table border=\"1\" class=\"dataframe\">\n",
              "  <thead>\n",
              "    <tr style=\"text-align: right;\">\n",
              "      <th></th>\n",
              "      <th>Age</th>\n",
              "      <th>Gender</th>\n",
              "      <th>Item Purchased</th>\n",
              "      <th>Category</th>\n",
              "      <th>Purchase Amount (USD)</th>\n",
              "      <th>Location</th>\n",
              "      <th>Size</th>\n",
              "      <th>Color</th>\n",
              "      <th>Season</th>\n",
              "      <th>Review Rating</th>\n",
              "      <th>Subscription Status</th>\n",
              "      <th>Shipping Type</th>\n",
              "      <th>Discount Applied</th>\n",
              "      <th>Promo Code Used</th>\n",
              "      <th>Previous Purchases</th>\n",
              "      <th>Payment Method</th>\n",
              "      <th>Frequency of Purchases</th>\n",
              "    </tr>\n",
              "  </thead>\n",
              "  <tbody>\n",
              "    <tr>\n",
              "      <th>0</th>\n",
              "      <td>55</td>\n",
              "      <td>Male</td>\n",
              "      <td>Blouse</td>\n",
              "      <td>Clothing</td>\n",
              "      <td>53</td>\n",
              "      <td>Kentucky</td>\n",
              "      <td>L</td>\n",
              "      <td>Gray</td>\n",
              "      <td>Winter</td>\n",
              "      <td>3.1</td>\n",
              "      <td>Yes</td>\n",
              "      <td>Express</td>\n",
              "      <td>Yes</td>\n",
              "      <td>Yes</td>\n",
              "      <td>14</td>\n",
              "      <td>Venmo</td>\n",
              "      <td>Fortnightly</td>\n",
              "    </tr>\n",
              "    <tr>\n",
              "      <th>1</th>\n",
              "      <td>19</td>\n",
              "      <td>Male</td>\n",
              "      <td>Sweater</td>\n",
              "      <td>Clothing</td>\n",
              "      <td>64</td>\n",
              "      <td>Maine</td>\n",
              "      <td>L</td>\n",
              "      <td>Maroon</td>\n",
              "      <td>Winter</td>\n",
              "      <td>3.1</td>\n",
              "      <td>Yes</td>\n",
              "      <td>Express</td>\n",
              "      <td>Yes</td>\n",
              "      <td>Yes</td>\n",
              "      <td>2</td>\n",
              "      <td>Cash</td>\n",
              "      <td>Fortnightly</td>\n",
              "    </tr>\n",
              "    <tr>\n",
              "      <th>2</th>\n",
              "      <td>50</td>\n",
              "      <td>Male</td>\n",
              "      <td>Jeans</td>\n",
              "      <td>Clothing</td>\n",
              "      <td>73</td>\n",
              "      <td>Massachusetts</td>\n",
              "      <td>S</td>\n",
              "      <td>Maroon</td>\n",
              "      <td>Spring</td>\n",
              "      <td>3.1</td>\n",
              "      <td>Yes</td>\n",
              "      <td>Free Shipping</td>\n",
              "      <td>Yes</td>\n",
              "      <td>Yes</td>\n",
              "      <td>23</td>\n",
              "      <td>Credit Card</td>\n",
              "      <td>Weekly</td>\n",
              "    </tr>\n",
              "    <tr>\n",
              "      <th>3</th>\n",
              "      <td>21</td>\n",
              "      <td>Male</td>\n",
              "      <td>Sandals</td>\n",
              "      <td>Footwear</td>\n",
              "      <td>90</td>\n",
              "      <td>Rhode Island</td>\n",
              "      <td>M</td>\n",
              "      <td>Maroon</td>\n",
              "      <td>Spring</td>\n",
              "      <td>3.5</td>\n",
              "      <td>Yes</td>\n",
              "      <td>Next Day Air</td>\n",
              "      <td>Yes</td>\n",
              "      <td>Yes</td>\n",
              "      <td>49</td>\n",
              "      <td>PayPal</td>\n",
              "      <td>Weekly</td>\n",
              "    </tr>\n",
              "    <tr>\n",
              "      <th>4</th>\n",
              "      <td>45</td>\n",
              "      <td>Male</td>\n",
              "      <td>Blouse</td>\n",
              "      <td>Clothing</td>\n",
              "      <td>49</td>\n",
              "      <td>Oregon</td>\n",
              "      <td>M</td>\n",
              "      <td>Turquoise</td>\n",
              "      <td>Spring</td>\n",
              "      <td>2.7</td>\n",
              "      <td>Yes</td>\n",
              "      <td>Free Shipping</td>\n",
              "      <td>Yes</td>\n",
              "      <td>Yes</td>\n",
              "      <td>31</td>\n",
              "      <td>PayPal</td>\n",
              "      <td>Annually</td>\n",
              "    </tr>\n",
              "    <tr>\n",
              "      <th>...</th>\n",
              "      <td>...</td>\n",
              "      <td>...</td>\n",
              "      <td>...</td>\n",
              "      <td>...</td>\n",
              "      <td>...</td>\n",
              "      <td>...</td>\n",
              "      <td>...</td>\n",
              "      <td>...</td>\n",
              "      <td>...</td>\n",
              "      <td>...</td>\n",
              "      <td>...</td>\n",
              "      <td>...</td>\n",
              "      <td>...</td>\n",
              "      <td>...</td>\n",
              "      <td>...</td>\n",
              "      <td>...</td>\n",
              "      <td>...</td>\n",
              "    </tr>\n",
              "    <tr>\n",
              "      <th>3895</th>\n",
              "      <td>40</td>\n",
              "      <td>Female</td>\n",
              "      <td>Hoodie</td>\n",
              "      <td>Clothing</td>\n",
              "      <td>28</td>\n",
              "      <td>Virginia</td>\n",
              "      <td>L</td>\n",
              "      <td>Turquoise</td>\n",
              "      <td>Summer</td>\n",
              "      <td>4.2</td>\n",
              "      <td>No</td>\n",
              "      <td>2-Day Shipping</td>\n",
              "      <td>No</td>\n",
              "      <td>No</td>\n",
              "      <td>32</td>\n",
              "      <td>Venmo</td>\n",
              "      <td>Weekly</td>\n",
              "    </tr>\n",
              "    <tr>\n",
              "      <th>3896</th>\n",
              "      <td>52</td>\n",
              "      <td>Female</td>\n",
              "      <td>Backpack</td>\n",
              "      <td>Accessories</td>\n",
              "      <td>49</td>\n",
              "      <td>Iowa</td>\n",
              "      <td>L</td>\n",
              "      <td>White</td>\n",
              "      <td>Spring</td>\n",
              "      <td>4.5</td>\n",
              "      <td>No</td>\n",
              "      <td>Store Pickup</td>\n",
              "      <td>No</td>\n",
              "      <td>No</td>\n",
              "      <td>41</td>\n",
              "      <td>Bank Transfer</td>\n",
              "      <td>Bi-Weekly</td>\n",
              "    </tr>\n",
              "    <tr>\n",
              "      <th>3897</th>\n",
              "      <td>46</td>\n",
              "      <td>Female</td>\n",
              "      <td>Belt</td>\n",
              "      <td>Accessories</td>\n",
              "      <td>33</td>\n",
              "      <td>New Jersey</td>\n",
              "      <td>L</td>\n",
              "      <td>Green</td>\n",
              "      <td>Spring</td>\n",
              "      <td>2.9</td>\n",
              "      <td>No</td>\n",
              "      <td>Standard</td>\n",
              "      <td>No</td>\n",
              "      <td>No</td>\n",
              "      <td>24</td>\n",
              "      <td>Venmo</td>\n",
              "      <td>Quarterly</td>\n",
              "    </tr>\n",
              "    <tr>\n",
              "      <th>3898</th>\n",
              "      <td>44</td>\n",
              "      <td>Female</td>\n",
              "      <td>Shoes</td>\n",
              "      <td>Footwear</td>\n",
              "      <td>77</td>\n",
              "      <td>Minnesota</td>\n",
              "      <td>S</td>\n",
              "      <td>Brown</td>\n",
              "      <td>Summer</td>\n",
              "      <td>3.8</td>\n",
              "      <td>No</td>\n",
              "      <td>Express</td>\n",
              "      <td>No</td>\n",
              "      <td>No</td>\n",
              "      <td>24</td>\n",
              "      <td>Venmo</td>\n",
              "      <td>Weekly</td>\n",
              "    </tr>\n",
              "    <tr>\n",
              "      <th>3899</th>\n",
              "      <td>52</td>\n",
              "      <td>Female</td>\n",
              "      <td>Handbag</td>\n",
              "      <td>Accessories</td>\n",
              "      <td>81</td>\n",
              "      <td>California</td>\n",
              "      <td>M</td>\n",
              "      <td>Beige</td>\n",
              "      <td>Spring</td>\n",
              "      <td>3.1</td>\n",
              "      <td>No</td>\n",
              "      <td>Store Pickup</td>\n",
              "      <td>No</td>\n",
              "      <td>No</td>\n",
              "      <td>33</td>\n",
              "      <td>Venmo</td>\n",
              "      <td>Quarterly</td>\n",
              "    </tr>\n",
              "  </tbody>\n",
              "</table>\n",
              "<p>3900 rows × 17 columns</p>\n",
              "</div>"
            ],
            "text/plain": [
              "      Age  Gender Item Purchased     Category  Purchase Amount (USD)  \\\n",
              "0      55    Male         Blouse     Clothing                     53   \n",
              "1      19    Male        Sweater     Clothing                     64   \n",
              "2      50    Male          Jeans     Clothing                     73   \n",
              "3      21    Male        Sandals     Footwear                     90   \n",
              "4      45    Male         Blouse     Clothing                     49   \n",
              "...   ...     ...            ...          ...                    ...   \n",
              "3895   40  Female         Hoodie     Clothing                     28   \n",
              "3896   52  Female       Backpack  Accessories                     49   \n",
              "3897   46  Female           Belt  Accessories                     33   \n",
              "3898   44  Female          Shoes     Footwear                     77   \n",
              "3899   52  Female        Handbag  Accessories                     81   \n",
              "\n",
              "           Location Size      Color  Season  Review Rating  \\\n",
              "0          Kentucky    L       Gray  Winter            3.1   \n",
              "1             Maine    L     Maroon  Winter            3.1   \n",
              "2     Massachusetts    S     Maroon  Spring            3.1   \n",
              "3      Rhode Island    M     Maroon  Spring            3.5   \n",
              "4            Oregon    M  Turquoise  Spring            2.7   \n",
              "...             ...  ...        ...     ...            ...   \n",
              "3895       Virginia    L  Turquoise  Summer            4.2   \n",
              "3896           Iowa    L      White  Spring            4.5   \n",
              "3897     New Jersey    L      Green  Spring            2.9   \n",
              "3898      Minnesota    S      Brown  Summer            3.8   \n",
              "3899     California    M      Beige  Spring            3.1   \n",
              "\n",
              "     Subscription Status   Shipping Type Discount Applied Promo Code Used  \\\n",
              "0                    Yes         Express              Yes             Yes   \n",
              "1                    Yes         Express              Yes             Yes   \n",
              "2                    Yes   Free Shipping              Yes             Yes   \n",
              "3                    Yes    Next Day Air              Yes             Yes   \n",
              "4                    Yes   Free Shipping              Yes             Yes   \n",
              "...                  ...             ...              ...             ...   \n",
              "3895                  No  2-Day Shipping               No              No   \n",
              "3896                  No    Store Pickup               No              No   \n",
              "3897                  No        Standard               No              No   \n",
              "3898                  No         Express               No              No   \n",
              "3899                  No    Store Pickup               No              No   \n",
              "\n",
              "      Previous Purchases Payment Method Frequency of Purchases  \n",
              "0                     14          Venmo            Fortnightly  \n",
              "1                      2           Cash            Fortnightly  \n",
              "2                     23    Credit Card                 Weekly  \n",
              "3                     49         PayPal                 Weekly  \n",
              "4                     31         PayPal               Annually  \n",
              "...                  ...            ...                    ...  \n",
              "3895                  32          Venmo                 Weekly  \n",
              "3896                  41  Bank Transfer              Bi-Weekly  \n",
              "3897                  24          Venmo              Quarterly  \n",
              "3898                  24          Venmo                 Weekly  \n",
              "3899                  33          Venmo              Quarterly  \n",
              "\n",
              "[3900 rows x 17 columns]"
            ]
          },
          "execution_count": 209,
          "metadata": {},
          "output_type": "execute_result"
        }
      ],
      "source": [
        "# Import csv data yang sudah dibersihkan\n",
        "\n",
        "df1=pd.read_csv('ShoppingTrend-clean.csv')\n",
        "df1"
      ]
    },
    {
      "cell_type": "markdown",
      "metadata": {},
      "source": [
        "**Deskriptif Statistik : Central Tendency = Mean, Median, Mode**"
      ]
    },
    {
      "cell_type": "code",
      "execution_count": 210,
      "metadata": {
        "id": "r13WuMopMLNK"
      },
      "outputs": [
        {
          "name": "stdout",
          "output_type": "stream",
          "text": [
            "Mean dari Purchase amount (USD) adalah : 59.76435897435898\n",
            "Median dari Purchase amount (USD) adalah : 60.0\n",
            "Modus dari Purchase amount (USD) adalah : 32\n"
          ]
        }
      ],
      "source": [
        "# Mean, Median dan Modus Purchase amount (USD) (Spending Customer) dalam berbelanja fashion\n",
        "\n",
        "meanpurchase = df1['Purchase Amount (USD)'].mean()\n",
        "medianpurchase = df1['Purchase Amount (USD)'].median()\n",
        "moduspurchase = df1['Purchase Amount (USD)'].mode()\n",
        "\n",
        "print(f'Mean dari Purchase amount (USD) adalah : {meanpurchase}')\n",
        "print(f'Median dari Purchase amount (USD) adalah : {medianpurchase}')\n",
        "print(f'Modus dari Purchase amount (USD) adalah : {moduspurchase[0]}')"
      ]
    },
    {
      "cell_type": "markdown",
      "metadata": {},
      "source": [
        "Berdasarkan perhitungan central tendency untuk kolom Purchase amount in usd : mean lebih rendah dari median 59.764 > 60 yang artinya distribusi data adalah Negatif skew."
      ]
    },
    {
      "cell_type": "code",
      "execution_count": 211,
      "metadata": {},
      "outputs": [
        {
          "name": "stdout",
          "output_type": "stream",
          "text": [
            "Mean dari Review Rating adalah : 3.7499487179487176\n",
            "Median dari Review Rating adalah : 3.7\n",
            "Modus dari Review Rating adalah : 3.4\n"
          ]
        }
      ],
      "source": [
        "# Mean median modus untuk review rating\n",
        "\n",
        "meanrating = df1['Review Rating'].mean()\n",
        "medianrating = df1['Review Rating'].median()\n",
        "modusrating = df1['Review Rating'].mode()\n",
        "\n",
        "print(f'Mean dari Review Rating adalah : {meanrating}')\n",
        "print(f'Median dari Review Rating adalah : {medianrating}')\n",
        "print(f'Modus dari Review Rating adalah : {modusrating[0]}')"
      ]
    },
    {
      "cell_type": "markdown",
      "metadata": {},
      "source": [
        "Berdasarkan central tendency untuk kolom review rating : mean lebih tinggi dari median 3.7499 > 3.7 yang artinya distribusi data adalah positiv skew."
      ]
    },
    {
      "cell_type": "markdown",
      "metadata": {},
      "source": [
        "Cek skewness dan kurtosisnya"
      ]
    },
    {
      "cell_type": "code",
      "execution_count": 212,
      "metadata": {},
      "outputs": [
        {
          "name": "stdout",
          "output_type": "stream",
          "text": [
            "Kurtosis Purchase Amount: -1.236593691266159\n",
            "Kurtosis Review Rating: -1.1796283021299137\n",
            "Kurtosis Previous Purchase: -1.1901873846405375\n"
          ]
        }
      ],
      "source": [
        "# Cek Kurtosis Purchase amount, Review Rating dan Previous Purchase\n",
        "print(f\"Kurtosis Purchase Amount: {df1['Purchase Amount (USD)'].kurtosis()}\")\n",
        "print(f\"Kurtosis Review Rating: {df1['Review Rating'].kurtosis()}\")\n",
        "print(f\"Kurtosis Previous Purchase: {df1['Previous Purchases'].kurtosis()}\")"
      ]
    },
    {
      "cell_type": "markdown",
      "metadata": {},
      "source": [
        "Kurtosis untuk 3 kolom diatas hasilny Data distributionnya cenderung rendah (platykurtic)"
      ]
    },
    {
      "cell_type": "code",
      "execution_count": 216,
      "metadata": {},
      "outputs": [
        {
          "name": "stdout",
          "output_type": "stream",
          "text": [
            "Skew Purchase Amount: 0.012701757626433795\n",
            "Skew Review Rating: 0.00452459644246527\n",
            "Skew Previous Purchase: 0.0031211555127652127\n"
          ]
        }
      ],
      "source": [
        "# Cek Kurtosis Purchase amount, Review Rating dan Previous Purchase\n",
        "\n",
        "print(f\"Skew Purchase Amount: {df1['Purchase Amount (USD)'].skew()}\")\n",
        "print(f\"Skew Review Rating: {df1['Review Rating'].skew()}\")\n",
        "print(f\"Skew Previous Purchase: {df1['Previous Purchases'].skew()}\")"
      ]
    },
    {
      "cell_type": "markdown",
      "metadata": {},
      "source": [
        "Cek Penyebaran Outlier data"
      ]
    },
    {
      "cell_type": "code",
      "execution_count": 213,
      "metadata": {},
      "outputs": [
        {
          "data": {
            "text/plain": [
              "<Axes: >"
            ]
          },
          "execution_count": 213,
          "metadata": {},
          "output_type": "execute_result"
        },
        {
          "data": {
            "image/png": "[encoded data removed]",
            "text/plain": [
              "<Figure size 1000x400 with 2 Axes>"
            ]
          },
          "metadata": {},
          "output_type": "display_data"
        }
      ],
      "source": [
        "# Cek Penyebaran Outlier Data Purchase Amount (USD)\n",
        "fig, ax = plt.subplots(ncols=2,figsize=(10,4))\n",
        "\n",
        "df1['Purchase Amount (USD)'].plot(kind='hist',bins=20,ax=ax[0])\n",
        "df1['Purchase Amount (USD)'].plot(kind='box',ax=ax[1])"
      ]
    },
    {
      "cell_type": "code",
      "execution_count": 203,
      "metadata": {},
      "outputs": [
        {
          "data": {
            "text/plain": [
              "<Axes: >"
            ]
          },
          "execution_count": 203,
          "metadata": {},
          "output_type": "execute_result"
        },
        {
          "data": {
            "image/png": "[encoded data removed]",
            "text/plain": [
              "<Figure size 1000x400 with 2 Axes>"
            ]
          },
          "metadata": {},
          "output_type": "display_data"
        }
      ],
      "source": [
        "# Cek Penyebaran Outlier Review Rating\n",
        "fig, ax = plt.subplots(ncols=2,figsize=(10,4))\n",
        "\n",
        "df1['Review Rating'].plot(kind='hist',bins=20,ax=ax[0])\n",
        "df1['Review Rating'].plot(kind='box',ax=ax[1])"
      ]
    },
    {
      "cell_type": "code",
      "execution_count": 204,
      "metadata": {},
      "outputs": [
        {
          "data": {
            "text/plain": [
              "<Axes: >"
            ]
          },
          "execution_count": 204,
          "metadata": {},
          "output_type": "execute_result"
        },
        {
          "data": {
            "image/png": "[encoded data removed]",
            "text/plain": [
              "<Figure size 1000x400 with 2 Axes>"
            ]
          },
          "metadata": {},
          "output_type": "display_data"
        }
      ],
      "source": [
        "# Cek Penyebaran Outlier Review Rating\n",
        "fig, ax = plt.subplots(ncols=2,figsize=(10,4))\n",
        "\n",
        "df1['Previous Purchases'].plot(kind='hist',bins=20,ax=ax[0])\n",
        "df1['Previous Purchases'].plot(kind='box',ax=ax[1])"
      ]
    },
    {
      "cell_type": "markdown",
      "metadata": {},
      "source": [
        "Dari ketiga grafik diatas tidak ditemukan adanya outlier"
      ]
    },
    {
      "cell_type": "code",
      "execution_count": 140,
      "metadata": {},
      "outputs": [
        {
          "data": {
            "text/html": [
              "<div>\n",
              "<style scoped>\n",
              "    .dataframe tbody tr th:only-of-type {\n",
              "        vertical-align: middle;\n",
              "    }\n",
              "\n",
              "    .dataframe tbody tr th {\n",
              "        vertical-align: top;\n",
              "    }\n",
              "\n",
              "    .dataframe thead th {\n",
              "        text-align: right;\n",
              "    }\n",
              "</style>\n",
              "<table border=\"1\" class=\"dataframe\">\n",
              "  <thead>\n",
              "    <tr style=\"text-align: right;\">\n",
              "      <th></th>\n",
              "      <th>mean</th>\n",
              "      <th>median</th>\n",
              "      <th>mode</th>\n",
              "    </tr>\n",
              "    <tr>\n",
              "      <th>Gender</th>\n",
              "      <th></th>\n",
              "      <th></th>\n",
              "      <th></th>\n",
              "    </tr>\n",
              "  </thead>\n",
              "  <tbody>\n",
              "    <tr>\n",
              "      <th>Female</th>\n",
              "      <td>60.249199</td>\n",
              "      <td>60.0</td>\n",
              "      <td>82</td>\n",
              "    </tr>\n",
              "    <tr>\n",
              "      <th>Male</th>\n",
              "      <td>59.536199</td>\n",
              "      <td>60.0</td>\n",
              "      <td>36</td>\n",
              "    </tr>\n",
              "  </tbody>\n",
              "</table>\n",
              "</div>"
            ],
            "text/plain": [
              "             mean  median  mode\n",
              "Gender                         \n",
              "Female  60.249199    60.0    82\n",
              "Male    59.536199    60.0    36"
            ]
          },
          "execution_count": 140,
          "metadata": {},
          "output_type": "execute_result"
        }
      ],
      "source": [
        "# Mean, median dan modus spending customer = Purchase amount groupby gender\n",
        " \n",
        "Spending = df1.groupby('Gender')['Purchase Amount (USD)'].agg(['mean', 'median', pd.Series.mode])\n",
        "Spending"
      ]
    },
    {
      "cell_type": "markdown",
      "metadata": {},
      "source": [
        "Data diatas menunjukan untuk rata-rata pengeluaran belanja gender perempuan (female) ada di 60.249 usd dan laki-laki male 59 usd, sedangkan medianya sama 60 usd dan modus untuk gender female adalah 82 usd dan male adalah 36 usd"
      ]
    },
    {
      "cell_type": "code",
      "execution_count": 217,
      "metadata": {},
      "outputs": [
        {
          "data": {
            "image/png": "[encoded data removed]",
            "text/plain": [
              "<Figure size 800x400 with 1 Axes>"
            ]
          },
          "metadata": {},
          "output_type": "display_data"
        }
      ],
      "source": [
        "# Divisualisasikan dalam bentuk bar chart\n",
        "\n",
        "Spending.plot(kind='bar', figsize=(8,4))\n",
        "plt.title('Mean, Median and Mode Purchasing Amount by gender')\n",
        "plt.xlabel('Gender')\n",
        "plt.ylabel('Spending in USD')\n",
        "plt.xticks(rotation=0)\n",
        "plt.legend(title='Keterangan')\n",
        "plt.show()"
      ]
    },
    {
      "cell_type": "markdown",
      "metadata": {},
      "source": [
        "Berdasarkan grafik diatas spending (pengeluaran) terbesar untuk belanja fashion masih dipegang oleh kategori gender perempuan (female). "
      ]
    },
    {
      "cell_type": "markdown",
      "metadata": {},
      "source": [
        "Selanjutnya adalah methode payment apa yang sering digunakan dan berapa total pembayaran untuk masing-masing payment method diatas"
      ]
    },
    {
      "cell_type": "code",
      "execution_count": 142,
      "metadata": {},
      "outputs": [
        {
          "name": "stdout",
          "output_type": "stream",
          "text": [
            "Payment Method\n",
            "Bank Transfer    36544\n",
            "Cash             40002\n",
            "Credit Card      40310\n",
            "Debit Card       38742\n",
            "PayPal           40109\n",
            "Venmo            37374\n",
            "Name: Purchase Amount (USD), dtype: int64\n",
            "Payment Method\n",
            "Bank Transfer    612\n",
            "Cash             670\n",
            "Credit Card      671\n",
            "Debit Card       636\n",
            "PayPal           677\n",
            "Venmo            634\n",
            "Name: Purchase Amount (USD), dtype: int64\n"
          ]
        }
      ],
      "source": [
        "payment = df1.groupby('Payment Method')['Purchase Amount (USD)'].sum()\n",
        "paymentcount = df1.groupby('Payment Method')['Purchase Amount (USD)'].count()\n",
        "\n",
        "# Dibuat ke dalam dataframe baru dinamakan df3 untuk memudahkan dibuat grafik \n",
        "df3 = pd.DataFrame({'Total pembayaran (Sum payment)': payment, 'Berapa kali Metode Pembayaran digunakan': paymentcount})\n",
        "\n",
        "print(payment)\n",
        "print(paymentcount)"
      ]
    },
    {
      "cell_type": "code",
      "execution_count": 143,
      "metadata": {},
      "outputs": [
        {
          "data": {
            "text/plain": [
              "<matplotlib.legend.Legend at 0x22534cfa750>"
            ]
          },
          "execution_count": 143,
          "metadata": {},
          "output_type": "execute_result"
        },
        {
          "data": {
            "image/png": "[encoded data removed]",
            "text/plain": [
              "<Figure size 800x400 with 1 Axes>"
            ]
          },
          "metadata": {},
          "output_type": "display_data"
        }
      ],
      "source": [
        "# Selanjutnya membuat bar horizontal chart dari df3/dataframe yang sudah dibuat\n",
        "\n",
        "ax = df3.plot(kind='barh', ylabel='Methode Pembayaran', title='Methode Pembayaran sering digunakan Customer', figsize=(8, 4))\n",
        "ax.set(xlabel='Total pembayaran (Sum payment in USD)')\n",
        "for z in ax.containers:\n",
        "    # set the bar label (keterangan angka yang ada pada bar)\n",
        "    ax.bar_label(z, label_type='edge')\n",
        "    \n",
        "ax.margins(x=0.6)\n",
        "\n",
        "# move the legend out of the plot\n",
        "ax.legend(title='Keterangan', bbox_to_anchor=(1,0.7), loc='best')"
      ]
    },
    {
      "cell_type": "markdown",
      "metadata": {},
      "source": [
        "Berdasarkan grouped bar chart diatas adanya temuan:       \n",
        "Jumlah pembayaran yang diterima untuk masing-masing methode tertinggi adalah dari methode pembayaran Credit Card tetapi pelanggan paling banyak melakukan tranksaksi menggunakan methode paypal yaitu 677 kali.\n",
        "\n",
        "Selanjutnya adalah item fashion yang paling sering / banyak dibeli oleh customer dalam bentuk treemap =       \n",
        "Gender > Kategori > Item yg terjual + jumlah terjual\n"
      ]
    },
    {
      "cell_type": "code",
      "execution_count": 144,
      "metadata": {},
      "outputs": [
        {
          "data": {
            "application/vnd.plotly.v1+json": {
              "config": {
                "plotlyServerURL": "https://plot.ly"
              },
              "data": [
                {
                  "branchvalues": "total",
                  "domain": {
                    "x": [
                      0,
                      1
                    ],
                    "y": [
                      0,
                      1
                    ]
                  },
                  "hovertemplate": "labels=%{label}<br>Count=%{value}<br>parent=%{parent}<br>id=%{id}<extra></extra>",
                  "ids": [
                    "Female/Accessories/Backpack",
                    "Male/Accessories/Backpack",
                    "Female/Accessories/Belt",
                    "Male/Accessories/Belt",
                    "Female/Clothing/Blouse",
                    "Male/Clothing/Blouse",
                    "Female/Footwear/Boots",
                    "Male/Footwear/Boots",
                    "Female/Outerwear/Coat",
                    "Male/Outerwear/Coat",
                    "Female/Clothing/Dress",
                    "Male/Clothing/Dress",
                    "Female/Accessories/Gloves",
                    "Male/Accessories/Gloves",
                    "Female/Accessories/Handbag",
                    "Male/Accessories/Handbag",
                    "Female/Accessories/Hat",
                    "Male/Accessories/Hat",
                    "Female/Clothing/Hoodie",
                    "Male/Clothing/Hoodie",
                    "Female/Outerwear/Jacket",
                    "Male/Outerwear/Jacket",
                    "Female/Clothing/Jeans",
                    "Male/Clothing/Jeans",
                    "Female/Accessories/Jewelry",
                    "Male/Accessories/Jewelry",
                    "Female/Clothing/Pants",
                    "Male/Clothing/Pants",
                    "Female/Footwear/Sandals",
                    "Male/Footwear/Sandals",
                    "Female/Accessories/Scarf",
                    "Male/Accessories/Scarf",
                    "Female/Clothing/Shirt",
                    "Male/Clothing/Shirt",
                    "Female/Footwear/Shoes",
                    "Male/Footwear/Shoes",
                    "Female/Clothing/Shorts",
                    "Male/Clothing/Shorts",
                    "Female/Clothing/Skirt",
                    "Male/Clothing/Skirt",
                    "Female/Footwear/Sneakers",
                    "Male/Footwear/Sneakers",
                    "Female/Clothing/Socks",
                    "Male/Clothing/Socks",
                    "Female/Accessories/Sunglasses",
                    "Male/Accessories/Sunglasses",
                    "Female/Clothing/Sweater",
                    "Male/Clothing/Sweater",
                    "Female/Clothing/T-shirt",
                    "Male/Clothing/T-shirt",
                    "Female/Accessories",
                    "Male/Accessories",
                    "Female/Clothing",
                    "Male/Clothing",
                    "Female/Footwear",
                    "Male/Footwear",
                    "Female/Outerwear",
                    "Male/Outerwear",
                    "Female",
                    "Male"
                  ],
                  "labels": [
                    "Backpack",
                    "Backpack",
                    "Belt",
                    "Belt",
                    "Blouse",
                    "Blouse",
                    "Boots",
                    "Boots",
                    "Coat",
                    "Coat",
                    "Dress",
                    "Dress",
                    "Gloves",
                    "Gloves",
                    "Handbag",
                    "Handbag",
                    "Hat",
                    "Hat",
                    "Hoodie",
                    "Hoodie",
                    "Jacket",
                    "Jacket",
                    "Jeans",
                    "Jeans",
                    "Jewelry",
                    "Jewelry",
                    "Pants",
                    "Pants",
                    "Sandals",
                    "Sandals",
                    "Scarf",
                    "Scarf",
                    "Shirt",
                    "Shirt",
                    "Shoes",
                    "Shoes",
                    "Shorts",
                    "Shorts",
                    "Skirt",
                    "Skirt",
                    "Sneakers",
                    "Sneakers",
                    "Socks",
                    "Socks",
                    "Sunglasses",
                    "Sunglasses",
                    "Sweater",
                    "Sweater",
                    "T-shirt",
                    "T-shirt",
                    "Accessories",
                    "Accessories",
                    "Clothing",
                    "Clothing",
                    "Footwear",
                    "Footwear",
                    "Outerwear",
                    "Outerwear",
                    "Female",
                    "Male"
                  ],
                  "name": "",
                  "parents": [
                    "Female/Accessories",
                    "Male/Accessories",
                    "Female/Accessories",
                    "Male/Accessories",
                    "Female/Clothing",
                    "Male/Clothing",
                    "Female/Footwear",
                    "Male/Footwear",
                    "Female/Outerwear",
                    "Male/Outerwear",
                    "Female/Clothing",
                    "Male/Clothing",
                    "Female/Accessories",
                    "Male/Accessories",
                    "Female/Accessories",
                    "Male/Accessories",
                    "Female/Accessories",
                    "Male/Accessories",
                    "Female/Clothing",
                    "Male/Clothing",
                    "Female/Outerwear",
                    "Male/Outerwear",
                    "Female/Clothing",
                    "Male/Clothing",
                    "Female/Accessories",
                    "Male/Accessories",
                    "Female/Clothing",
                    "Male/Clothing",
                    "Female/Footwear",
                    "Male/Footwear",
                    "Female/Accessories",
                    "Male/Accessories",
                    "Female/Clothing",
                    "Male/Clothing",
                    "Female/Footwear",
                    "Male/Footwear",
                    "Female/Clothing",
                    "Male/Clothing",
                    "Female/Clothing",
                    "Male/Clothing",
                    "Female/Footwear",
                    "Male/Footwear",
                    "Female/Clothing",
                    "Male/Clothing",
                    "Female/Accessories",
                    "Male/Accessories",
                    "Female/Clothing",
                    "Male/Clothing",
                    "Female/Clothing",
                    "Male/Clothing",
                    "Female",
                    "Male",
                    "Female",
                    "Male",
                    "Female",
                    "Male",
                    "Female",
                    "Male",
                    "",
                    ""
                  ],
                  "type": "treemap",
                  "values": [
                    37,
                    106,
                    55,
                    106,
                    66,
                    105,
                    50,
                    94,
                    47,
                    114,
                    52,
                    114,
                    37,
                    103,
                    58,
                    95,
                    52,
                    102,
                    51,
                    100,
                    54,
                    109,
                    29,
                    95,
                    52,
                    119,
                    48,
                    123,
                    59,
                    101,
                    45,
                    112,
                    59,
                    110,
                    48,
                    102,
                    48,
                    109,
                    49,
                    109,
                    42,
                    103,
                    58,
                    101,
                    56,
                    105,
                    50,
                    114,
                    46,
                    101,
                    392,
                    848,
                    556,
                    1181,
                    199,
                    400,
                    101,
                    223,
                    1248,
                    2652
                  ]
                }
              ],
              "layout": {
                "legend": {
                  "tracegroupgap": 0
                },
                "template": {
                  "data": {
                    "bar": [
                      {
                        "error_x": {
                          "color": "#2a3f5f"
                        },
                        "error_y": {
                          "color": "#2a3f5f"
                        },
                        "marker": {
                          "line": {
                            "color": "#E5ECF6",
                            "width": 0.5
                          },
                          "pattern": {
                            "fillmode": "overlay",
                            "size": 10,
                            "solidity": 0.2
                          }
                        },
                        "type": "bar"
                      }
                    ],
                    "barpolar": [
                      {
                        "marker": {
                          "line": {
                            "color": "#E5ECF6",
                            "width": 0.5
                          },
                          "pattern": {
                            "fillmode": "overlay",
                            "size": 10,
                            "solidity": 0.2
                          }
                        },
                        "type": "barpolar"
                      }
                    ],
                    "carpet": [
                      {
                        "aaxis": {
                          "endlinecolor": "#2a3f5f",
                          "gridcolor": "white",
                          "linecolor": "white",
                          "minorgridcolor": "white",
                          "startlinecolor": "#2a3f5f"
                        },
                        "baxis": {
                          "endlinecolor": "#2a3f5f",
                          "gridcolor": "white",
                          "linecolor": "white",
                          "minorgridcolor": "white",
                          "startlinecolor": "#2a3f5f"
                        },
                        "type": "carpet"
                      }
                    ],
                    "choropleth": [
                      {
                        "colorbar": {
                          "outlinewidth": 0,
                          "ticks": ""
                        },
                        "type": "choropleth"
                      }
                    ],
                    "contour": [
                      {
                        "colorbar": {
                          "outlinewidth": 0,
                          "ticks": ""
                        },
                        "colorscale": [
                          [
                            0,
                            "#0d0887"
                          ],
                          [
                            0.1111111111111111,
                            "#46039f"
                          ],
                          [
                            0.2222222222222222,
                            "#7201a8"
                          ],
                          [
                            0.3333333333333333,
                            "#9c179e"
                          ],
                          [
                            0.4444444444444444,
                            "#bd3786"
                          ],
                          [
                            0.5555555555555556,
                            "#d8576b"
                          ],
                          [
                            0.6666666666666666,
                            "#ed7953"
                          ],
                          [
                            0.7777777777777778,
                            "#fb9f3a"
                          ],
                          [
                            0.8888888888888888,
                            "#fdca26"
                          ],
                          [
                            1,
                            "#f0f921"
                          ]
                        ],
                        "type": "contour"
                      }
                    ],
                    "contourcarpet": [
                      {
                        "colorbar": {
                          "outlinewidth": 0,
                          "ticks": ""
                        },
                        "type": "contourcarpet"
                      }
                    ],
                    "heatmap": [
                      {
                        "colorbar": {
                          "outlinewidth": 0,
                          "ticks": ""
                        },
                        "colorscale": [
                          [
                            0,
                            "#0d0887"
                          ],
                          [
                            0.1111111111111111,
                            "#46039f"
                          ],
                          [
                            0.2222222222222222,
                            "#7201a8"
                          ],
                          [
                            0.3333333333333333,
                            "#9c179e"
                          ],
                          [
                            0.4444444444444444,
                            "#bd3786"
                          ],
                          [
                            0.5555555555555556,
                            "#d8576b"
                          ],
                          [
                            0.6666666666666666,
                            "#ed7953"
                          ],
                          [
                            0.7777777777777778,
                            "#fb9f3a"
                          ],
                          [
                            0.8888888888888888,
                            "#fdca26"
                          ],
                          [
                            1,
                            "#f0f921"
                          ]
                        ],
                        "type": "heatmap"
                      }
                    ],
                    "heatmapgl": [
                      {
                        "colorbar": {
                          "outlinewidth": 0,
                          "ticks": ""
                        },
                        "colorscale": [
                          [
                            0,
                            "#0d0887"
                          ],
                          [
                            0.1111111111111111,
                            "#46039f"
                          ],
                          [
                            0.2222222222222222,
                            "#7201a8"
                          ],
                          [
                            0.3333333333333333,
                            "#9c179e"
                          ],
                          [
                            0.4444444444444444,
                            "#bd3786"
                          ],
                          [
                            0.5555555555555556,
                            "#d8576b"
                          ],
                          [
                            0.6666666666666666,
                            "#ed7953"
                          ],
                          [
                            0.7777777777777778,
                            "#fb9f3a"
                          ],
                          [
                            0.8888888888888888,
                            "#fdca26"
                          ],
                          [
                            1,
                            "#f0f921"
                          ]
                        ],
                        "type": "heatmapgl"
                      }
                    ],
                    "histogram": [
                      {
                        "marker": {
                          "pattern": {
                            "fillmode": "overlay",
                            "size": 10,
                            "solidity": 0.2
                          }
                        },
                        "type": "histogram"
                      }
                    ],
                    "histogram2d": [
                      {
                        "colorbar": {
                          "outlinewidth": 0,
                          "ticks": ""
                        },
                        "colorscale": [
                          [
                            0,
                            "#0d0887"
                          ],
                          [
                            0.1111111111111111,
                            "#46039f"
                          ],
                          [
                            0.2222222222222222,
                            "#7201a8"
                          ],
                          [
                            0.3333333333333333,
                            "#9c179e"
                          ],
                          [
                            0.4444444444444444,
                            "#bd3786"
                          ],
                          [
                            0.5555555555555556,
                            "#d8576b"
                          ],
                          [
                            0.6666666666666666,
                            "#ed7953"
                          ],
                          [
                            0.7777777777777778,
                            "#fb9f3a"
                          ],
                          [
                            0.8888888888888888,
                            "#fdca26"
                          ],
                          [
                            1,
                            "#f0f921"
                          ]
                        ],
                        "type": "histogram2d"
                      }
                    ],
                    "histogram2dcontour": [
                      {
                        "colorbar": {
                          "outlinewidth": 0,
                          "ticks": ""
                        },
                        "colorscale": [
                          [
                            0,
                            "#0d0887"
                          ],
                          [
                            0.1111111111111111,
                            "#46039f"
                          ],
                          [
                            0.2222222222222222,
                            "#7201a8"
                          ],
                          [
                            0.3333333333333333,
                            "#9c179e"
                          ],
                          [
                            0.4444444444444444,
                            "#bd3786"
                          ],
                          [
                            0.5555555555555556,
                            "#d8576b"
                          ],
                          [
                            0.6666666666666666,
                            "#ed7953"
                          ],
                          [
                            0.7777777777777778,
                            "#fb9f3a"
                          ],
                          [
                            0.8888888888888888,
                            "#fdca26"
                          ],
                          [
                            1,
                            "#f0f921"
                          ]
                        ],
                        "type": "histogram2dcontour"
                      }
                    ],
                    "mesh3d": [
                      {
                        "colorbar": {
                          "outlinewidth": 0,
                          "ticks": ""
                        },
                        "type": "mesh3d"
                      }
                    ],
                    "parcoords": [
                      {
                        "line": {
                          "colorbar": {
                            "outlinewidth": 0,
                            "ticks": ""
                          }
                        },
                        "type": "parcoords"
                      }
                    ],
                    "pie": [
                      {
                        "automargin": true,
                        "type": "pie"
                      }
                    ],
                    "scatter": [
                      {
                        "fillpattern": {
                          "fillmode": "overlay",
                          "size": 10,
                          "solidity": 0.2
                        },
                        "type": "scatter"
                      }
                    ],
                    "scatter3d": [
                      {
                        "line": {
                          "colorbar": {
                            "outlinewidth": 0,
                            "ticks": ""
                          }
                        },
                        "marker": {
                          "colorbar": {
                            "outlinewidth": 0,
                            "ticks": ""
                          }
                        },
                        "type": "scatter3d"
                      }
                    ],
                    "scattercarpet": [
                      {
                        "marker": {
                          "colorbar": {
                            "outlinewidth": 0,
                            "ticks": ""
                          }
                        },
                        "type": "scattercarpet"
                      }
                    ],
                    "scattergeo": [
                      {
                        "marker": {
                          "colorbar": {
                            "outlinewidth": 0,
                            "ticks": ""
                          }
                        },
                        "type": "scattergeo"
                      }
                    ],
                    "scattergl": [
                      {
                        "marker": {
                          "colorbar": {
                            "outlinewidth": 0,
                            "ticks": ""
                          }
                        },
                        "type": "scattergl"
                      }
                    ],
                    "scattermapbox": [
                      {
                        "marker": {
                          "colorbar": {
                            "outlinewidth": 0,
                            "ticks": ""
                          }
                        },
                        "type": "scattermapbox"
                      }
                    ],
                    "scatterpolar": [
                      {
                        "marker": {
                          "colorbar": {
                            "outlinewidth": 0,
                            "ticks": ""
                          }
                        },
                        "type": "scatterpolar"
                      }
                    ],
                    "scatterpolargl": [
                      {
                        "marker": {
                          "colorbar": {
                            "outlinewidth": 0,
                            "ticks": ""
                          }
                        },
                        "type": "scatterpolargl"
                      }
                    ],
                    "scatterternary": [
                      {
                        "marker": {
                          "colorbar": {
                            "outlinewidth": 0,
                            "ticks": ""
                          }
                        },
                        "type": "scatterternary"
                      }
                    ],
                    "surface": [
                      {
                        "colorbar": {
                          "outlinewidth": 0,
                          "ticks": ""
                        },
                        "colorscale": [
                          [
                            0,
                            "#0d0887"
                          ],
                          [
                            0.1111111111111111,
                            "#46039f"
                          ],
                          [
                            0.2222222222222222,
                            "#7201a8"
                          ],
                          [
                            0.3333333333333333,
                            "#9c179e"
                          ],
                          [
                            0.4444444444444444,
                            "#bd3786"
                          ],
                          [
                            0.5555555555555556,
                            "#d8576b"
                          ],
                          [
                            0.6666666666666666,
                            "#ed7953"
                          ],
                          [
                            0.7777777777777778,
                            "#fb9f3a"
                          ],
                          [
                            0.8888888888888888,
                            "#fdca26"
                          ],
                          [
                            1,
                            "#f0f921"
                          ]
                        ],
                        "type": "surface"
                      }
                    ],
                    "table": [
                      {
                        "cells": {
                          "fill": {
                            "color": "#EBF0F8"
                          },
                          "line": {
                            "color": "white"
                          }
                        },
                        "header": {
                          "fill": {
                            "color": "#C8D4E3"
                          },
                          "line": {
                            "color": "white"
                          }
                        },
                        "type": "table"
                      }
                    ]
                  },
                  "layout": {
                    "annotationdefaults": {
                      "arrowcolor": "#2a3f5f",
                      "arrowhead": 0,
                      "arrowwidth": 1
                    },
                    "autotypenumbers": "strict",
                    "coloraxis": {
                      "colorbar": {
                        "outlinewidth": 0,
                        "ticks": ""
                      }
                    },
                    "colorscale": {
                      "diverging": [
                        [
                          0,
                          "#8e0152"
                        ],
                        [
                          0.1,
                          "#c51b7d"
                        ],
                        [
                          0.2,
                          "#de77ae"
                        ],
                        [
                          0.3,
                          "#f1b6da"
                        ],
                        [
                          0.4,
                          "#fde0ef"
                        ],
                        [
                          0.5,
                          "#f7f7f7"
                        ],
                        [
                          0.6,
                          "#e6f5d0"
                        ],
                        [
                          0.7,
                          "#b8e186"
                        ],
                        [
                          0.8,
                          "#7fbc41"
                        ],
                        [
                          0.9,
                          "#4d9221"
                        ],
                        [
                          1,
                          "#276419"
                        ]
                      ],
                      "sequential": [
                        [
                          0,
                          "#0d0887"
                        ],
                        [
                          0.1111111111111111,
                          "#46039f"
                        ],
                        [
                          0.2222222222222222,
                          "#7201a8"
                        ],
                        [
                          0.3333333333333333,
                          "#9c179e"
                        ],
                        [
                          0.4444444444444444,
                          "#bd3786"
                        ],
                        [
                          0.5555555555555556,
                          "#d8576b"
                        ],
                        [
                          0.6666666666666666,
                          "#ed7953"
                        ],
                        [
                          0.7777777777777778,
                          "#fb9f3a"
                        ],
                        [
                          0.8888888888888888,
                          "#fdca26"
                        ],
                        [
                          1,
                          "#f0f921"
                        ]
                      ],
                      "sequentialminus": [
                        [
                          0,
                          "#0d0887"
                        ],
                        [
                          0.1111111111111111,
                          "#46039f"
                        ],
                        [
                          0.2222222222222222,
                          "#7201a8"
                        ],
                        [
                          0.3333333333333333,
                          "#9c179e"
                        ],
                        [
                          0.4444444444444444,
                          "#bd3786"
                        ],
                        [
                          0.5555555555555556,
                          "#d8576b"
                        ],
                        [
                          0.6666666666666666,
                          "#ed7953"
                        ],
                        [
                          0.7777777777777778,
                          "#fb9f3a"
                        ],
                        [
                          0.8888888888888888,
                          "#fdca26"
                        ],
                        [
                          1,
                          "#f0f921"
                        ]
                      ]
                    },
                    "colorway": [
                      "#636efa",
                      "#EF553B",
                      "#00cc96",
                      "#ab63fa",
                      "#FFA15A",
                      "#19d3f3",
                      "#FF6692",
                      "#B6E880",
                      "#FF97FF",
                      "#FECB52"
                    ],
                    "font": {
                      "color": "#2a3f5f"
                    },
                    "geo": {
                      "bgcolor": "white",
                      "lakecolor": "white",
                      "landcolor": "#E5ECF6",
                      "showlakes": true,
                      "showland": true,
                      "subunitcolor": "white"
                    },
                    "hoverlabel": {
                      "align": "left"
                    },
                    "hovermode": "closest",
                    "mapbox": {
                      "style": "light"
                    },
                    "paper_bgcolor": "white",
                    "plot_bgcolor": "#E5ECF6",
                    "polar": {
                      "angularaxis": {
                        "gridcolor": "white",
                        "linecolor": "white",
                        "ticks": ""
                      },
                      "bgcolor": "#E5ECF6",
                      "radialaxis": {
                        "gridcolor": "white",
                        "linecolor": "white",
                        "ticks": ""
                      }
                    },
                    "scene": {
                      "xaxis": {
                        "backgroundcolor": "#E5ECF6",
                        "gridcolor": "white",
                        "gridwidth": 2,
                        "linecolor": "white",
                        "showbackground": true,
                        "ticks": "",
                        "zerolinecolor": "white"
                      },
                      "yaxis": {
                        "backgroundcolor": "#E5ECF6",
                        "gridcolor": "white",
                        "gridwidth": 2,
                        "linecolor": "white",
                        "showbackground": true,
                        "ticks": "",
                        "zerolinecolor": "white"
                      },
                      "zaxis": {
                        "backgroundcolor": "#E5ECF6",
                        "gridcolor": "white",
                        "gridwidth": 2,
                        "linecolor": "white",
                        "showbackground": true,
                        "ticks": "",
                        "zerolinecolor": "white"
                      }
                    },
                    "shapedefaults": {
                      "line": {
                        "color": "#2a3f5f"
                      }
                    },
                    "ternary": {
                      "aaxis": {
                        "gridcolor": "white",
                        "linecolor": "white",
                        "ticks": ""
                      },
                      "baxis": {
                        "gridcolor": "white",
                        "linecolor": "white",
                        "ticks": ""
                      },
                      "bgcolor": "#E5ECF6",
                      "caxis": {
                        "gridcolor": "white",
                        "linecolor": "white",
                        "ticks": ""
                      }
                    },
                    "title": {
                      "x": 0.05
                    },
                    "xaxis": {
                      "automargin": true,
                      "gridcolor": "white",
                      "linecolor": "white",
                      "ticks": "",
                      "title": {
                        "standoff": 15
                      },
                      "zerolinecolor": "white",
                      "zerolinewidth": 2
                    },
                    "yaxis": {
                      "automargin": true,
                      "gridcolor": "white",
                      "linecolor": "white",
                      "ticks": "",
                      "title": {
                        "standoff": 15
                      },
                      "zerolinecolor": "white",
                      "zerolinewidth": 2
                    }
                  }
                },
                "title": {
                  "text": "Treemap produk fashion yang terjual berdasarkan Gender"
                }
              }
            }
          },
          "metadata": {},
          "output_type": "display_data"
        }
      ],
      "source": [
        "# Langkah membuat visualisasi treemap \n",
        "# 1 Menghitung jumlah / count kolom gender terlebih dahulu\n",
        "gendercount = df1['Gender'].value_counts().reset_index()\n",
        "gendercount.columns = ['Gender', 'Count'] # definisikan dulu jumlahnya dengan count\n",
        "\n",
        "# 2. Group by Hasil count kolom gender diatas \n",
        "category_counts = df1.groupby(['Gender', 'Category']).size().reset_index(name='Count')\n",
        "\n",
        "# 3. Count / hitung nilai yang sama dari kolom item purchased\n",
        "itemcounts = df1.groupby(['Gender', 'Category', 'Item Purchased']).size().reset_index(name='Count')\n",
        "\n",
        "# 4. deploy treemapnya\n",
        "fig = px.treemap(itemcounts, path=['Gender', 'Category', 'Item Purchased'], values='Count', \n",
        "                 title='Treemap produk fashion yang terjual berdasarkan Gender')\n",
        "fig.show()"
      ]
    },
    {
      "cell_type": "markdown",
      "metadata": {},
      "source": [
        "Seems like hasilnya untuk Male produk Skirt, Dress dan Blouse seharusnya masuk ke area Female. Kemungkinan ada mis di dataset bawaan atau memang membeli untuk keperluan lain seperti gift who knows...\n",
        "\n",
        "Dari data diatas untuk kategori customer dengan gender Pria (Male) ternyata masih mendominasi berbelanja fashion walaupun secara jumlah pengeluaran dalam berbelanja fashion untuk customer Wanita (female) masih lebih tinggi "
      ]
    },
    {
      "cell_type": "markdown",
      "metadata": {},
      "source": [
        "Berdasarkan Product fashion paling banyak terjual"
      ]
    },
    {
      "cell_type": "code",
      "execution_count": 164,
      "metadata": {},
      "outputs": [
        {
          "data": {
            "application/vnd.plotly.v1+json": {
              "config": {
                "plotlyServerURL": "https://plot.ly"
              },
              "data": [
                {
                  "alignmentgroup": "True",
                  "hovertemplate": "count=%{x}<br>Item Purchased=%{y}<extra></extra>",
                  "legendgroup": "",
                  "marker": {
                    "color": "#636efa",
                    "pattern": {
                      "shape": ""
                    }
                  },
                  "name": "",
                  "offsetgroup": "",
                  "orientation": "h",
                  "showlegend": false,
                  "textposition": "auto",
                  "type": "bar",
                  "x": [
                    171,
                    171,
                    171,
                    169,
                    166,
                    164,
                    163,
                    161,
                    161,
                    161,
                    160,
                    159,
                    158,
                    157,
                    157,
                    154,
                    153,
                    151,
                    150,
                    147,
                    145,
                    144,
                    143,
                    140,
                    124
                  ],
                  "xaxis": "x",
                  "y": [
                    "Blouse",
                    "Jewelry",
                    "Pants",
                    "Shirt",
                    "Dress",
                    "Sweater",
                    "Jacket",
                    "Belt",
                    "Sunglasses",
                    "Coat",
                    "Sandals",
                    "Socks",
                    "Skirt",
                    "Shorts",
                    "Scarf",
                    "Hat",
                    "Handbag",
                    "Hoodie",
                    "Shoes",
                    "T-shirt",
                    "Sneakers",
                    "Boots",
                    "Backpack",
                    "Gloves",
                    "Jeans"
                  ],
                  "yaxis": "y"
                }
              ],
              "layout": {
                "barmode": "relative",
                "legend": {
                  "tracegroupgap": 0
                },
                "template": {
                  "data": {
                    "bar": [
                      {
                        "error_x": {
                          "color": "#2a3f5f"
                        },
                        "error_y": {
                          "color": "#2a3f5f"
                        },
                        "marker": {
                          "line": {
                            "color": "#E5ECF6",
                            "width": 0.5
                          },
                          "pattern": {
                            "fillmode": "overlay",
                            "size": 10,
                            "solidity": 0.2
                          }
                        },
                        "type": "bar"
                      }
                    ],
                    "barpolar": [
                      {
                        "marker": {
                          "line": {
                            "color": "#E5ECF6",
                            "width": 0.5
                          },
                          "pattern": {
                            "fillmode": "overlay",
                            "size": 10,
                            "solidity": 0.2
                          }
                        },
                        "type": "barpolar"
                      }
                    ],
                    "carpet": [
                      {
                        "aaxis": {
                          "endlinecolor": "#2a3f5f",
                          "gridcolor": "white",
                          "linecolor": "white",
                          "minorgridcolor": "white",
                          "startlinecolor": "#2a3f5f"
                        },
                        "baxis": {
                          "endlinecolor": "#2a3f5f",
                          "gridcolor": "white",
                          "linecolor": "white",
                          "minorgridcolor": "white",
                          "startlinecolor": "#2a3f5f"
                        },
                        "type": "carpet"
                      }
                    ],
                    "choropleth": [
                      {
                        "colorbar": {
                          "outlinewidth": 0,
                          "ticks": ""
                        },
                        "type": "choropleth"
                      }
                    ],
                    "contour": [
                      {
                        "colorbar": {
                          "outlinewidth": 0,
                          "ticks": ""
                        },
                        "colorscale": [
                          [
                            0,
                            "#0d0887"
                          ],
                          [
                            0.1111111111111111,
                            "#46039f"
                          ],
                          [
                            0.2222222222222222,
                            "#7201a8"
                          ],
                          [
                            0.3333333333333333,
                            "#9c179e"
                          ],
                          [
                            0.4444444444444444,
                            "#bd3786"
                          ],
                          [
                            0.5555555555555556,
                            "#d8576b"
                          ],
                          [
                            0.6666666666666666,
                            "#ed7953"
                          ],
                          [
                            0.7777777777777778,
                            "#fb9f3a"
                          ],
                          [
                            0.8888888888888888,
                            "#fdca26"
                          ],
                          [
                            1,
                            "#f0f921"
                          ]
                        ],
                        "type": "contour"
                      }
                    ],
                    "contourcarpet": [
                      {
                        "colorbar": {
                          "outlinewidth": 0,
                          "ticks": ""
                        },
                        "type": "contourcarpet"
                      }
                    ],
                    "heatmap": [
                      {
                        "colorbar": {
                          "outlinewidth": 0,
                          "ticks": ""
                        },
                        "colorscale": [
                          [
                            0,
                            "#0d0887"
                          ],
                          [
                            0.1111111111111111,
                            "#46039f"
                          ],
                          [
                            0.2222222222222222,
                            "#7201a8"
                          ],
                          [
                            0.3333333333333333,
                            "#9c179e"
                          ],
                          [
                            0.4444444444444444,
                            "#bd3786"
                          ],
                          [
                            0.5555555555555556,
                            "#d8576b"
                          ],
                          [
                            0.6666666666666666,
                            "#ed7953"
                          ],
                          [
                            0.7777777777777778,
                            "#fb9f3a"
                          ],
                          [
                            0.8888888888888888,
                            "#fdca26"
                          ],
                          [
                            1,
                            "#f0f921"
                          ]
                        ],
                        "type": "heatmap"
                      }
                    ],
                    "heatmapgl": [
                      {
                        "colorbar": {
                          "outlinewidth": 0,
                          "ticks": ""
                        },
                        "colorscale": [
                          [
                            0,
                            "#0d0887"
                          ],
                          [
                            0.1111111111111111,
                            "#46039f"
                          ],
                          [
                            0.2222222222222222,
                            "#7201a8"
                          ],
                          [
                            0.3333333333333333,
                            "#9c179e"
                          ],
                          [
                            0.4444444444444444,
                            "#bd3786"
                          ],
                          [
                            0.5555555555555556,
                            "#d8576b"
                          ],
                          [
                            0.6666666666666666,
                            "#ed7953"
                          ],
                          [
                            0.7777777777777778,
                            "#fb9f3a"
                          ],
                          [
                            0.8888888888888888,
                            "#fdca26"
                          ],
                          [
                            1,
                            "#f0f921"
                          ]
                        ],
                        "type": "heatmapgl"
                      }
                    ],
                    "histogram": [
                      {
                        "marker": {
                          "pattern": {
                            "fillmode": "overlay",
                            "size": 10,
                            "solidity": 0.2
                          }
                        },
                        "type": "histogram"
                      }
                    ],
                    "histogram2d": [
                      {
                        "colorbar": {
                          "outlinewidth": 0,
                          "ticks": ""
                        },
                        "colorscale": [
                          [
                            0,
                            "#0d0887"
                          ],
                          [
                            0.1111111111111111,
                            "#46039f"
                          ],
                          [
                            0.2222222222222222,
                            "#7201a8"
                          ],
                          [
                            0.3333333333333333,
                            "#9c179e"
                          ],
                          [
                            0.4444444444444444,
                            "#bd3786"
                          ],
                          [
                            0.5555555555555556,
                            "#d8576b"
                          ],
                          [
                            0.6666666666666666,
                            "#ed7953"
                          ],
                          [
                            0.7777777777777778,
                            "#fb9f3a"
                          ],
                          [
                            0.8888888888888888,
                            "#fdca26"
                          ],
                          [
                            1,
                            "#f0f921"
                          ]
                        ],
                        "type": "histogram2d"
                      }
                    ],
                    "histogram2dcontour": [
                      {
                        "colorbar": {
                          "outlinewidth": 0,
                          "ticks": ""
                        },
                        "colorscale": [
                          [
                            0,
                            "#0d0887"
                          ],
                          [
                            0.1111111111111111,
                            "#46039f"
                          ],
                          [
                            0.2222222222222222,
                            "#7201a8"
                          ],
                          [
                            0.3333333333333333,
                            "#9c179e"
                          ],
                          [
                            0.4444444444444444,
                            "#bd3786"
                          ],
                          [
                            0.5555555555555556,
                            "#d8576b"
                          ],
                          [
                            0.6666666666666666,
                            "#ed7953"
                          ],
                          [
                            0.7777777777777778,
                            "#fb9f3a"
                          ],
                          [
                            0.8888888888888888,
                            "#fdca26"
                          ],
                          [
                            1,
                            "#f0f921"
                          ]
                        ],
                        "type": "histogram2dcontour"
                      }
                    ],
                    "mesh3d": [
                      {
                        "colorbar": {
                          "outlinewidth": 0,
                          "ticks": ""
                        },
                        "type": "mesh3d"
                      }
                    ],
                    "parcoords": [
                      {
                        "line": {
                          "colorbar": {
                            "outlinewidth": 0,
                            "ticks": ""
                          }
                        },
                        "type": "parcoords"
                      }
                    ],
                    "pie": [
                      {
                        "automargin": true,
                        "type": "pie"
                      }
                    ],
                    "scatter": [
                      {
                        "fillpattern": {
                          "fillmode": "overlay",
                          "size": 10,
                          "solidity": 0.2
                        },
                        "type": "scatter"
                      }
                    ],
                    "scatter3d": [
                      {
                        "line": {
                          "colorbar": {
                            "outlinewidth": 0,
                            "ticks": ""
                          }
                        },
                        "marker": {
                          "colorbar": {
                            "outlinewidth": 0,
                            "ticks": ""
                          }
                        },
                        "type": "scatter3d"
                      }
                    ],
                    "scattercarpet": [
                      {
                        "marker": {
                          "colorbar": {
                            "outlinewidth": 0,
                            "ticks": ""
                          }
                        },
                        "type": "scattercarpet"
                      }
                    ],
                    "scattergeo": [
                      {
                        "marker": {
                          "colorbar": {
                            "outlinewidth": 0,
                            "ticks": ""
                          }
                        },
                        "type": "scattergeo"
                      }
                    ],
                    "scattergl": [
                      {
                        "marker": {
                          "colorbar": {
                            "outlinewidth": 0,
                            "ticks": ""
                          }
                        },
                        "type": "scattergl"
                      }
                    ],
                    "scattermapbox": [
                      {
                        "marker": {
                          "colorbar": {
                            "outlinewidth": 0,
                            "ticks": ""
                          }
                        },
                        "type": "scattermapbox"
                      }
                    ],
                    "scatterpolar": [
                      {
                        "marker": {
                          "colorbar": {
                            "outlinewidth": 0,
                            "ticks": ""
                          }
                        },
                        "type": "scatterpolar"
                      }
                    ],
                    "scatterpolargl": [
                      {
                        "marker": {
                          "colorbar": {
                            "outlinewidth": 0,
                            "ticks": ""
                          }
                        },
                        "type": "scatterpolargl"
                      }
                    ],
                    "scatterternary": [
                      {
                        "marker": {
                          "colorbar": {
                            "outlinewidth": 0,
                            "ticks": ""
                          }
                        },
                        "type": "scatterternary"
                      }
                    ],
                    "surface": [
                      {
                        "colorbar": {
                          "outlinewidth": 0,
                          "ticks": ""
                        },
                        "colorscale": [
                          [
                            0,
                            "#0d0887"
                          ],
                          [
                            0.1111111111111111,
                            "#46039f"
                          ],
                          [
                            0.2222222222222222,
                            "#7201a8"
                          ],
                          [
                            0.3333333333333333,
                            "#9c179e"
                          ],
                          [
                            0.4444444444444444,
                            "#bd3786"
                          ],
                          [
                            0.5555555555555556,
                            "#d8576b"
                          ],
                          [
                            0.6666666666666666,
                            "#ed7953"
                          ],
                          [
                            0.7777777777777778,
                            "#fb9f3a"
                          ],
                          [
                            0.8888888888888888,
                            "#fdca26"
                          ],
                          [
                            1,
                            "#f0f921"
                          ]
                        ],
                        "type": "surface"
                      }
                    ],
                    "table": [
                      {
                        "cells": {
                          "fill": {
                            "color": "#EBF0F8"
                          },
                          "line": {
                            "color": "white"
                          }
                        },
                        "header": {
                          "fill": {
                            "color": "#C8D4E3"
                          },
                          "line": {
                            "color": "white"
                          }
                        },
                        "type": "table"
                      }
                    ]
                  },
                  "layout": {
                    "annotationdefaults": {
                      "arrowcolor": "#2a3f5f",
                      "arrowhead": 0,
                      "arrowwidth": 1
                    },
                    "autotypenumbers": "strict",
                    "coloraxis": {
                      "colorbar": {
                        "outlinewidth": 0,
                        "ticks": ""
                      }
                    },
                    "colorscale": {
                      "diverging": [
                        [
                          0,
                          "#8e0152"
                        ],
                        [
                          0.1,
                          "#c51b7d"
                        ],
                        [
                          0.2,
                          "#de77ae"
                        ],
                        [
                          0.3,
                          "#f1b6da"
                        ],
                        [
                          0.4,
                          "#fde0ef"
                        ],
                        [
                          0.5,
                          "#f7f7f7"
                        ],
                        [
                          0.6,
                          "#e6f5d0"
                        ],
                        [
                          0.7,
                          "#b8e186"
                        ],
                        [
                          0.8,
                          "#7fbc41"
                        ],
                        [
                          0.9,
                          "#4d9221"
                        ],
                        [
                          1,
                          "#276419"
                        ]
                      ],
                      "sequential": [
                        [
                          0,
                          "#0d0887"
                        ],
                        [
                          0.1111111111111111,
                          "#46039f"
                        ],
                        [
                          0.2222222222222222,
                          "#7201a8"
                        ],
                        [
                          0.3333333333333333,
                          "#9c179e"
                        ],
                        [
                          0.4444444444444444,
                          "#bd3786"
                        ],
                        [
                          0.5555555555555556,
                          "#d8576b"
                        ],
                        [
                          0.6666666666666666,
                          "#ed7953"
                        ],
                        [
                          0.7777777777777778,
                          "#fb9f3a"
                        ],
                        [
                          0.8888888888888888,
                          "#fdca26"
                        ],
                        [
                          1,
                          "#f0f921"
                        ]
                      ],
                      "sequentialminus": [
                        [
                          0,
                          "#0d0887"
                        ],
                        [
                          0.1111111111111111,
                          "#46039f"
                        ],
                        [
                          0.2222222222222222,
                          "#7201a8"
                        ],
                        [
                          0.3333333333333333,
                          "#9c179e"
                        ],
                        [
                          0.4444444444444444,
                          "#bd3786"
                        ],
                        [
                          0.5555555555555556,
                          "#d8576b"
                        ],
                        [
                          0.6666666666666666,
                          "#ed7953"
                        ],
                        [
                          0.7777777777777778,
                          "#fb9f3a"
                        ],
                        [
                          0.8888888888888888,
                          "#fdca26"
                        ],
                        [
                          1,
                          "#f0f921"
                        ]
                      ]
                    },
                    "colorway": [
                      "#636efa",
                      "#EF553B",
                      "#00cc96",
                      "#ab63fa",
                      "#FFA15A",
                      "#19d3f3",
                      "#FF6692",
                      "#B6E880",
                      "#FF97FF",
                      "#FECB52"
                    ],
                    "font": {
                      "color": "#2a3f5f"
                    },
                    "geo": {
                      "bgcolor": "white",
                      "lakecolor": "white",
                      "landcolor": "#E5ECF6",
                      "showlakes": true,
                      "showland": true,
                      "subunitcolor": "white"
                    },
                    "hoverlabel": {
                      "align": "left"
                    },
                    "hovermode": "closest",
                    "mapbox": {
                      "style": "light"
                    },
                    "paper_bgcolor": "white",
                    "plot_bgcolor": "#E5ECF6",
                    "polar": {
                      "angularaxis": {
                        "gridcolor": "white",
                        "linecolor": "white",
                        "ticks": ""
                      },
                      "bgcolor": "#E5ECF6",
                      "radialaxis": {
                        "gridcolor": "white",
                        "linecolor": "white",
                        "ticks": ""
                      }
                    },
                    "scene": {
                      "xaxis": {
                        "backgroundcolor": "#E5ECF6",
                        "gridcolor": "white",
                        "gridwidth": 2,
                        "linecolor": "white",
                        "showbackground": true,
                        "ticks": "",
                        "zerolinecolor": "white"
                      },
                      "yaxis": {
                        "backgroundcolor": "#E5ECF6",
                        "gridcolor": "white",
                        "gridwidth": 2,
                        "linecolor": "white",
                        "showbackground": true,
                        "ticks": "",
                        "zerolinecolor": "white"
                      },
                      "zaxis": {
                        "backgroundcolor": "#E5ECF6",
                        "gridcolor": "white",
                        "gridwidth": 2,
                        "linecolor": "white",
                        "showbackground": true,
                        "ticks": "",
                        "zerolinecolor": "white"
                      }
                    },
                    "shapedefaults": {
                      "line": {
                        "color": "#2a3f5f"
                      }
                    },
                    "ternary": {
                      "aaxis": {
                        "gridcolor": "white",
                        "linecolor": "white",
                        "ticks": ""
                      },
                      "baxis": {
                        "gridcolor": "white",
                        "linecolor": "white",
                        "ticks": ""
                      },
                      "bgcolor": "#E5ECF6",
                      "caxis": {
                        "gridcolor": "white",
                        "linecolor": "white",
                        "ticks": ""
                      }
                    },
                    "title": {
                      "x": 0.05
                    },
                    "xaxis": {
                      "automargin": true,
                      "gridcolor": "white",
                      "linecolor": "white",
                      "ticks": "",
                      "title": {
                        "standoff": 15
                      },
                      "zerolinecolor": "white",
                      "zerolinewidth": 2
                    },
                    "yaxis": {
                      "automargin": true,
                      "gridcolor": "white",
                      "linecolor": "white",
                      "ticks": "",
                      "title": {
                        "standoff": 15
                      },
                      "zerolinecolor": "white",
                      "zerolinewidth": 2
                    }
                  }
                },
                "title": {
                  "text": "Produk yang Terjual"
                },
                "xaxis": {
                  "anchor": "y",
                  "domain": [
                    0,
                    1
                  ],
                  "title": {
                    "text": "count"
                  }
                },
                "yaxis": {
                  "anchor": "x",
                  "domain": [
                    0,
                    1
                  ],
                  "title": {
                    "text": "Item Purchased"
                  }
                }
              }
            }
          },
          "metadata": {},
          "output_type": "display_data"
        }
      ],
      "source": [
        "# Mengekstrak spesifik kolom ke dalam nama baru\n",
        "Itempurchased_extract = df1['Item Purchased'].value_counts().reset_index()\n",
        "\n",
        "# Buat kolom baru berdasarkan nama baru diatas\n",
        "Itempurchased_extract_columns = ['item','count'] # value yang sama diitung dengan count\n",
        "\n",
        "# Deploy value kolom diatas ke Plotly Bar Horizontal Chart\n",
        "fig = px.bar(Itempurchased_extract, x='count', y = 'Item Purchased', orientation='h', title='Produk yang Terjual')\n",
        "fig.show()"
      ]
    },
    {
      "cell_type": "markdown",
      "metadata": {},
      "source": [
        "Hasil Grafik diatas      \n",
        "Untuk product fashion dengan 5 penjualan tertinggi : Blouse, Pants, Dress, Jacket dan Sunglasses            \n",
        "Untuk penjualan 5 terendah product fashion : Jeans, Backpack,Sneakers, Shoes dan Handbag\n",
        "\n",
        "Sehingga untuk penjualan 5 terendah bisa di tambah promo untuk ke lima produk dengan pembelian terendah, namun kita harus mencari waktu yang tepat untuk memberikan promo sehingga Selanjutnya adalah grouping berapa rentang waktu belanja paling sering dilakukan berdasarkan gender "
      ]
    },
    {
      "cell_type": "code",
      "execution_count": 240,
      "metadata": {},
      "outputs": [
        {
          "data": {
            "text/html": [
              "<div>\n",
              "<style scoped>\n",
              "    .dataframe tbody tr th:only-of-type {\n",
              "        vertical-align: middle;\n",
              "    }\n",
              "\n",
              "    .dataframe tbody tr th {\n",
              "        vertical-align: top;\n",
              "    }\n",
              "\n",
              "    .dataframe thead th {\n",
              "        text-align: right;\n",
              "    }\n",
              "</style>\n",
              "<table border=\"1\" class=\"dataframe\">\n",
              "  <thead>\n",
              "    <tr style=\"text-align: right;\">\n",
              "      <th></th>\n",
              "      <th>Gender</th>\n",
              "      <th>Frequency of Purchases</th>\n",
              "      <th>Count</th>\n",
              "    </tr>\n",
              "  </thead>\n",
              "  <tbody>\n",
              "    <tr>\n",
              "      <th>0</th>\n",
              "      <td>Female</td>\n",
              "      <td>Annually</td>\n",
              "      <td>185</td>\n",
              "    </tr>\n",
              "    <tr>\n",
              "      <th>1</th>\n",
              "      <td>Female</td>\n",
              "      <td>Bi-Weekly</td>\n",
              "      <td>188</td>\n",
              "    </tr>\n",
              "    <tr>\n",
              "      <th>2</th>\n",
              "      <td>Female</td>\n",
              "      <td>Every 3 Months</td>\n",
              "      <td>186</td>\n",
              "    </tr>\n",
              "    <tr>\n",
              "      <th>3</th>\n",
              "      <td>Female</td>\n",
              "      <td>Fortnightly</td>\n",
              "      <td>163</td>\n",
              "    </tr>\n",
              "    <tr>\n",
              "      <th>4</th>\n",
              "      <td>Female</td>\n",
              "      <td>Monthly</td>\n",
              "      <td>185</td>\n",
              "    </tr>\n",
              "    <tr>\n",
              "      <th>5</th>\n",
              "      <td>Female</td>\n",
              "      <td>Quarterly</td>\n",
              "      <td>169</td>\n",
              "    </tr>\n",
              "    <tr>\n",
              "      <th>6</th>\n",
              "      <td>Female</td>\n",
              "      <td>Weekly</td>\n",
              "      <td>172</td>\n",
              "    </tr>\n",
              "    <tr>\n",
              "      <th>7</th>\n",
              "      <td>Male</td>\n",
              "      <td>Annually</td>\n",
              "      <td>387</td>\n",
              "    </tr>\n",
              "    <tr>\n",
              "      <th>8</th>\n",
              "      <td>Male</td>\n",
              "      <td>Bi-Weekly</td>\n",
              "      <td>359</td>\n",
              "    </tr>\n",
              "    <tr>\n",
              "      <th>9</th>\n",
              "      <td>Male</td>\n",
              "      <td>Every 3 Months</td>\n",
              "      <td>398</td>\n",
              "    </tr>\n",
              "    <tr>\n",
              "      <th>10</th>\n",
              "      <td>Male</td>\n",
              "      <td>Fortnightly</td>\n",
              "      <td>379</td>\n",
              "    </tr>\n",
              "    <tr>\n",
              "      <th>11</th>\n",
              "      <td>Male</td>\n",
              "      <td>Monthly</td>\n",
              "      <td>368</td>\n",
              "    </tr>\n",
              "    <tr>\n",
              "      <th>12</th>\n",
              "      <td>Male</td>\n",
              "      <td>Quarterly</td>\n",
              "      <td>394</td>\n",
              "    </tr>\n",
              "    <tr>\n",
              "      <th>13</th>\n",
              "      <td>Male</td>\n",
              "      <td>Weekly</td>\n",
              "      <td>367</td>\n",
              "    </tr>\n",
              "  </tbody>\n",
              "</table>\n",
              "</div>"
            ],
            "text/plain": [
              "    Gender Frequency of Purchases  Count\n",
              "0   Female               Annually    185\n",
              "1   Female              Bi-Weekly    188\n",
              "2   Female         Every 3 Months    186\n",
              "3   Female            Fortnightly    163\n",
              "4   Female                Monthly    185\n",
              "5   Female              Quarterly    169\n",
              "6   Female                 Weekly    172\n",
              "7     Male               Annually    387\n",
              "8     Male              Bi-Weekly    359\n",
              "9     Male         Every 3 Months    398\n",
              "10    Male            Fortnightly    379\n",
              "11    Male                Monthly    368\n",
              "12    Male              Quarterly    394\n",
              "13    Male                 Weekly    367"
            ]
          },
          "execution_count": 240,
          "metadata": {},
          "output_type": "execute_result"
        }
      ],
      "source": [
        "freq = df1.groupby(['Gender', 'Frequency of Purchases']).size().reset_index(name='Count')\n",
        "freq"
      ]
    },
    {
      "cell_type": "code",
      "execution_count": 259,
      "metadata": {},
      "outputs": [
        {
          "data": {
            "image/png": "[encoded data removed]",
            "text/plain": [
              "<Figure size 1700x600 with 1 Axes>"
            ]
          },
          "metadata": {},
          "output_type": "display_data"
        }
      ],
      "source": [
        "# buat chart menggunakan sns seaborn\n",
        "plt.figure(figsize=(17,6))\n",
        "sns.barplot(data=freq, x='Frequency of Purchases', y='Count', hue='Gender')\n",
        "plt.title('Periode Pelanggan membeli produk fashion berdasarkan gender')\n",
        "plt.xlabel('Gender')\n",
        "plt.ylabel('Count purchases')\n",
        "plt.show()\n"
      ]
    },
    {
      "cell_type": "markdown",
      "metadata": {},
      "source": [
        "Berdasarkan data diatas =          \n",
        "Periode pembelian terbanyak Untuk gender Male adalah setiap 3 bulan dan     \n",
        "periode pembelian terbanyak untuk gender female adalah setiap 2 minggu. \n",
        "\n",
        "Berdasarkan rentang waktu tersebut mungkin bisa memberikan ekstra promo disaat tersebut "
      ]
    },
    {
      "cell_type": "markdown",
      "metadata": {},
      "source": [
        "**Statistik Inferential**\n",
        "\n",
        "Mencari Korelasi apakah review rating mempengaruhi keputusan customer untuk membeli lagi"
      ]
    },
    {
      "cell_type": "code",
      "execution_count": 62,
      "metadata": {},
      "outputs": [
        {
          "name": "stdout",
          "output_type": "stream",
          "text": [
            "Pearson correlation : 0.0042290994652709225\n",
            "p-value-pearson: 0.791761660185139\n",
            "Spearman correlation : 0.004438264035333068\n",
            "p-value-spearman: 0.781717131148996\n",
            "Kendalltau correlation : 0.002978308211529298\n",
            "p-value-tau: 0.7865134829644664\n"
          ]
        }
      ],
      "source": [
        "# Korelasi kolom rating produk dan Previous Purchase\n",
        "\n",
        "# Extract the column data from your DataFrame\n",
        "x = df1['Review Rating']\n",
        "y = df1['Previous Purchases']\n",
        "\n",
        "# Calculate Pearson correlation coefficient directly using DataFrame columns\n",
        "pearson_corr, p_value_pearson = pearsonr(x, y)\n",
        "spearman_corr, p_value_spearman = spearmanr(x, y)\n",
        "kendall_tau, p_value_tau = kendalltau(x, y)\n",
        "\n",
        "print(\"Pearson correlation :\", pearson_corr)\n",
        "print(\"p-value-pearson:\", p_value_pearson)\n",
        "print(\"Spearman correlation :\", spearman_corr)\n",
        "print(\"p-value-spearman:\", p_value_spearman)\n",
        "print(\"Kendalltau correlation :\", kendall_tau)\n",
        "print(\"p-value-tau:\", p_value_tau)\n",
        "\n",
        "#scipy.stats.pearsonr(x=df[\"b\"], y=df[\"c\"])\n",
        "\n",
        "#print(f\"r-correlation: {corr_r:.2f}, p-value: {pval_p}\")\n",
        "#print(f\"rho-correlation: {corr_rho:.2f}, p-value: {pval_s}\")\n",
        "#print(f\"tau-correlation: {corr_tau:.2f}, p-value: {pval_k}\")\n",
        "\n",
        "#print(f\"pearson correlation: {pearson_corr:.2f}, p-value: {pval_pearson}\")\n",
        "#print(f\"spearman correlation: {spearman_corr:.2f}, p-value: {pval_spearman}\")\n",
        "#print(f\"kendall correlation: {kendall_corr:.2f}, p-value: {pval_tau}\")"
      ]
    },
    {
      "cell_type": "markdown",
      "metadata": {},
      "source": [
        "Hasilnya diatas adalah menunjukan korelasi yang lemah dari 3 korelasi diatas walaupun p-valuenya semua diatas 0.05 yang artinya adalah korelasi untuk kolom rating dan previous purchase tidak berkaitan. Kemudian untuk korelasi antara rating review dengan purchase amount :"
      ]
    },
    {
      "cell_type": "code",
      "execution_count": 68,
      "metadata": {},
      "outputs": [
        {
          "name": "stdout",
          "output_type": "stream",
          "text": [
            "Pearson correlation : 0.030775923073914458\n",
            "p-value-pearson: 0.054631573624773264\n",
            "Spearman correlation : 0.030379564266363384\n",
            "p-value-spearman: 0.05782360378309654\n",
            "Kendalltau correlation : 0.020656567119864397\n",
            "p-value-tau: 0.059352806250741706\n"
          ]
        }
      ],
      "source": [
        "# Korelasi kolom rating produk dan purchase amount\n",
        "\n",
        "# Extract the column data from your DataFrame\n",
        "x = df1['Purchase Amount (USD)']\n",
        "y = df1['Review Rating']\n",
        "\n",
        "# Calculate Pearson correlation coefficient directly using DataFrame columns\n",
        "pearson_corr, p_value_pearson = pearsonr(x, y)\n",
        "spearman_corr, p_value_spearman = spearmanr(x, y)\n",
        "kendall_tau, p_value_tau = kendalltau(x, y)\n",
        "\n",
        "print(\"Pearson correlation :\", pearson_corr)\n",
        "print(\"p-value-pearson:\", p_value_pearson)\n",
        "print(\"Spearman correlation :\", spearman_corr)\n",
        "print(\"p-value-spearman:\", p_value_spearman)\n",
        "print(\"Kendalltau correlation :\", kendall_tau)\n",
        "print(\"p-value-tau:\", p_value_tau)"
      ]
    },
    {
      "cell_type": "markdown",
      "metadata": {},
      "source": [
        "Hasilnya juga tidak ada korelasi signifikan antar 2 variabel tersebut. Selanjutnya analisis berdasarkan hipotesis chi-square"
      ]
    },
    {
      "cell_type": "markdown",
      "metadata": {},
      "source": [
        "Mencari Chi-Squared Hypothesis Test Berkaitan dengan Gender dan Penggunaan code promo       \n",
        "Pertama kita definisikan terlebih dahulu null hypotesis (h0) nya\n",
        "\n",
        "H0: Tidak ada korelasi antara Gender and promo code used in shopping (Male and Female sama).       \n",
        "H1: Ada korelasi antara Gender and promo code used in shopping (Male and Female are beda)."
      ]
    },
    {
      "cell_type": "code",
      "execution_count": 77,
      "metadata": {},
      "outputs": [
        {
          "data": {
            "text/html": [
              "<div>\n",
              "<style scoped>\n",
              "    .dataframe tbody tr th:only-of-type {\n",
              "        vertical-align: middle;\n",
              "    }\n",
              "\n",
              "    .dataframe tbody tr th {\n",
              "        vertical-align: top;\n",
              "    }\n",
              "\n",
              "    .dataframe thead th {\n",
              "        text-align: right;\n",
              "    }\n",
              "</style>\n",
              "<table border=\"1\" class=\"dataframe\">\n",
              "  <thead>\n",
              "    <tr style=\"text-align: right;\">\n",
              "      <th>Promo Code Used</th>\n",
              "      <th>No</th>\n",
              "      <th>Yes</th>\n",
              "    </tr>\n",
              "    <tr>\n",
              "      <th>Gender</th>\n",
              "      <th></th>\n",
              "      <th></th>\n",
              "    </tr>\n",
              "  </thead>\n",
              "  <tbody>\n",
              "    <tr>\n",
              "      <th>Female</th>\n",
              "      <td>1248</td>\n",
              "      <td>0</td>\n",
              "    </tr>\n",
              "    <tr>\n",
              "      <th>Male</th>\n",
              "      <td>975</td>\n",
              "      <td>1677</td>\n",
              "    </tr>\n",
              "  </tbody>\n",
              "</table>\n",
              "</div>"
            ],
            "text/plain": [
              "Promo Code Used    No   Yes\n",
              "Gender                     \n",
              "Female           1248     0\n",
              "Male              975  1677"
            ]
          },
          "execution_count": 77,
          "metadata": {},
          "output_type": "execute_result"
        }
      ],
      "source": [
        "# dibuat table crosstab terlebih dahulu\n",
        "\n",
        "table1 = pd.crosstab(df1['Gender'],df1['Promo Code Used'])\n",
        "table1"
      ]
    },
    {
      "cell_type": "code",
      "execution_count": 122,
      "metadata": {},
      "outputs": [
        {
          "name": "stdout",
          "output_type": "stream",
          "text": [
            "P-value: 1.7645380691667684e-302\n"
          ]
        }
      ],
      "source": [
        "result = chi2_contingency(table1)\n",
        "print(\"P-value:\",result.pvalue)"
      ]
    },
    {
      "cell_type": "markdown",
      "metadata": {},
      "source": [
        "Hasil interpretasi p-value diatas adalah 1.7645380691667684e-302 dari standarnya critical value 0.05 artinya 1.7645380691667684e-302 ada di bawah 0.05 maka kita tolak h0 dan terima h1      \n",
        "Artinya = Dari data diatas (h1) ditemukan adanya korelasi antara gender dengan penggunaan promo code.\n",
        "\n",
        "Pengolahan crosstab juga menunjukan mayoritas gender laki-laki (male) lebih banyak berbelanja menggunakan promo code"
      ]
    },
    {
      "cell_type": "markdown",
      "metadata": {
        "id": "o6xbDmZpMQ07"
      },
      "source": [
        "#### **Pengambilan Kesimpulan**"
      ]
    },
    {
      "cell_type": "markdown",
      "metadata": {},
      "source": [
        "Berdasarkan Perilaku konsumen dalam membeli produk fashion :        \n",
        "Untuk Gender Laki-Laki (Male) = Cenderung memanfaatkan promo code dibanding dengan Wanita (Female)      \n",
        "Untuk Gender Perempuan (Female) = Cenderung tidak memperdulikan / memanfaatkan promo kode saat checkout berbelanja fashion\n",
        "\n",
        "Untuk Gender Laki-Laki (Male) = Lebih banyak membeli produk fashion dibanding Wanita        \n",
        "Untuk Gender perempuan (Female) = Lebih sedikit membeli produk fashion dibanding pria tetapi pengeluaran dalam berbelanja produk fashion sangat besar.\n",
        "\n",
        "Tidak ditemukan adanya korelasi signifikan antara kolom rating dan previous purchase\n",
        "\n",
        "Berdasarkan Penggunaan total pemasukan terbesar dari customer dengan methode payment credit card         \n",
        "Berdasarkan jumlah penggunaan metode pembayaran paling banyak adalah 1. Paypal, 2. Credit card, 3.Cash\n"
      ]
    }
  ],
  "metadata": {
    "colab": {
      "provenance": []
    },
    "kernelspec": {
      "display_name": "Python 3",
      "name": "python3"
    },
    "language_info": {
      "codemirror_mode": {
        "name": "ipython",
        "version": 3
      },
      "file_extension": ".py",
      "mimetype": "text/x-python",
      "name": "python",
      "nbconvert_exporter": "python",
      "pygments_lexer": "ipython3",
      "version": "3.11.5"
    }
  },
  "nbformat": 4,
  "nbformat_minor": 0
}
